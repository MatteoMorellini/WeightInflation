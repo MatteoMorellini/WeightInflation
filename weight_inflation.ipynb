{
  "nbformat": 4,
  "nbformat_minor": 0,
  "metadata": {
    "colab": {
      "provenance": [],
      "gpuType": "L4",
      "machine_shape": "hm"
    },
    "kernelspec": {
      "name": "python3",
      "display_name": "Python 3"
    },
    "language_info": {
      "name": "python"
    },
    "accelerator": "GPU",
    "widgets": {
      "application/vnd.jupyter.widget-state+json": {
        "b722f54e151a46ba84bb940bdc5ee906": {
          "model_module": "@jupyter-widgets/controls",
          "model_name": "HBoxModel",
          "model_module_version": "1.5.0",
          "state": {
            "_dom_classes": [],
            "_model_module": "@jupyter-widgets/controls",
            "_model_module_version": "1.5.0",
            "_model_name": "HBoxModel",
            "_view_count": null,
            "_view_module": "@jupyter-widgets/controls",
            "_view_module_version": "1.5.0",
            "_view_name": "HBoxView",
            "box_style": "",
            "children": [
              "IPY_MODEL_69a2f32e8217479086852caebd45832d",
              "IPY_MODEL_645e6e5f80044ab29a1dc8e5e7178f97",
              "IPY_MODEL_cece7e49aeb049a0ad83fdc04e20ca43"
            ],
            "layout": "IPY_MODEL_040ccd7558814bd083976baf7bb4682e"
          }
        },
        "69a2f32e8217479086852caebd45832d": {
          "model_module": "@jupyter-widgets/controls",
          "model_name": "HTMLModel",
          "model_module_version": "1.5.0",
          "state": {
            "_dom_classes": [],
            "_model_module": "@jupyter-widgets/controls",
            "_model_module_version": "1.5.0",
            "_model_name": "HTMLModel",
            "_view_count": null,
            "_view_module": "@jupyter-widgets/controls",
            "_view_module_version": "1.5.0",
            "_view_name": "HTMLView",
            "description": "",
            "description_tooltip": null,
            "layout": "IPY_MODEL_70711cbfefc94d7cb5ec3de49500fe25",
            "placeholder": "​",
            "style": "IPY_MODEL_6dadfa5096bf4a58ae5aaad4e279865b",
            "value": "config.json: "
          }
        },
        "645e6e5f80044ab29a1dc8e5e7178f97": {
          "model_module": "@jupyter-widgets/controls",
          "model_name": "FloatProgressModel",
          "model_module_version": "1.5.0",
          "state": {
            "_dom_classes": [],
            "_model_module": "@jupyter-widgets/controls",
            "_model_module_version": "1.5.0",
            "_model_name": "FloatProgressModel",
            "_view_count": null,
            "_view_module": "@jupyter-widgets/controls",
            "_view_module_version": "1.5.0",
            "_view_name": "ProgressView",
            "bar_style": "success",
            "description": "",
            "description_tooltip": null,
            "layout": "IPY_MODEL_20f5a85dbbe64aaeac950a86d658721c",
            "max": 1,
            "min": 0,
            "orientation": "horizontal",
            "style": "IPY_MODEL_87bc3e848700473f904922f1e5378a03",
            "value": 1
          }
        },
        "cece7e49aeb049a0ad83fdc04e20ca43": {
          "model_module": "@jupyter-widgets/controls",
          "model_name": "HTMLModel",
          "model_module_version": "1.5.0",
          "state": {
            "_dom_classes": [],
            "_model_module": "@jupyter-widgets/controls",
            "_model_module_version": "1.5.0",
            "_model_name": "HTMLModel",
            "_view_count": null,
            "_view_module": "@jupyter-widgets/controls",
            "_view_module_version": "1.5.0",
            "_view_name": "HTMLView",
            "description": "",
            "description_tooltip": null,
            "layout": "IPY_MODEL_b497dfcd292a4f219dcb94e13b19de7c",
            "placeholder": "​",
            "style": "IPY_MODEL_36aade5c44f843f3874a55859727c86a",
            "value": " 1.67M/? [00:00&lt;00:00, 23.0MB/s]"
          }
        },
        "040ccd7558814bd083976baf7bb4682e": {
          "model_module": "@jupyter-widgets/base",
          "model_name": "LayoutModel",
          "model_module_version": "1.2.0",
          "state": {
            "_model_module": "@jupyter-widgets/base",
            "_model_module_version": "1.2.0",
            "_model_name": "LayoutModel",
            "_view_count": null,
            "_view_module": "@jupyter-widgets/base",
            "_view_module_version": "1.2.0",
            "_view_name": "LayoutView",
            "align_content": null,
            "align_items": null,
            "align_self": null,
            "border": null,
            "bottom": null,
            "display": null,
            "flex": null,
            "flex_flow": null,
            "grid_area": null,
            "grid_auto_columns": null,
            "grid_auto_flow": null,
            "grid_auto_rows": null,
            "grid_column": null,
            "grid_gap": null,
            "grid_row": null,
            "grid_template_areas": null,
            "grid_template_columns": null,
            "grid_template_rows": null,
            "height": null,
            "justify_content": null,
            "justify_items": null,
            "left": null,
            "margin": null,
            "max_height": null,
            "max_width": null,
            "min_height": null,
            "min_width": null,
            "object_fit": null,
            "object_position": null,
            "order": null,
            "overflow": null,
            "overflow_x": null,
            "overflow_y": null,
            "padding": null,
            "right": null,
            "top": null,
            "visibility": null,
            "width": null
          }
        },
        "70711cbfefc94d7cb5ec3de49500fe25": {
          "model_module": "@jupyter-widgets/base",
          "model_name": "LayoutModel",
          "model_module_version": "1.2.0",
          "state": {
            "_model_module": "@jupyter-widgets/base",
            "_model_module_version": "1.2.0",
            "_model_name": "LayoutModel",
            "_view_count": null,
            "_view_module": "@jupyter-widgets/base",
            "_view_module_version": "1.2.0",
            "_view_name": "LayoutView",
            "align_content": null,
            "align_items": null,
            "align_self": null,
            "border": null,
            "bottom": null,
            "display": null,
            "flex": null,
            "flex_flow": null,
            "grid_area": null,
            "grid_auto_columns": null,
            "grid_auto_flow": null,
            "grid_auto_rows": null,
            "grid_column": null,
            "grid_gap": null,
            "grid_row": null,
            "grid_template_areas": null,
            "grid_template_columns": null,
            "grid_template_rows": null,
            "height": null,
            "justify_content": null,
            "justify_items": null,
            "left": null,
            "margin": null,
            "max_height": null,
            "max_width": null,
            "min_height": null,
            "min_width": null,
            "object_fit": null,
            "object_position": null,
            "order": null,
            "overflow": null,
            "overflow_x": null,
            "overflow_y": null,
            "padding": null,
            "right": null,
            "top": null,
            "visibility": null,
            "width": null
          }
        },
        "6dadfa5096bf4a58ae5aaad4e279865b": {
          "model_module": "@jupyter-widgets/controls",
          "model_name": "DescriptionStyleModel",
          "model_module_version": "1.5.0",
          "state": {
            "_model_module": "@jupyter-widgets/controls",
            "_model_module_version": "1.5.0",
            "_model_name": "DescriptionStyleModel",
            "_view_count": null,
            "_view_module": "@jupyter-widgets/base",
            "_view_module_version": "1.2.0",
            "_view_name": "StyleView",
            "description_width": ""
          }
        },
        "20f5a85dbbe64aaeac950a86d658721c": {
          "model_module": "@jupyter-widgets/base",
          "model_name": "LayoutModel",
          "model_module_version": "1.2.0",
          "state": {
            "_model_module": "@jupyter-widgets/base",
            "_model_module_version": "1.2.0",
            "_model_name": "LayoutModel",
            "_view_count": null,
            "_view_module": "@jupyter-widgets/base",
            "_view_module_version": "1.2.0",
            "_view_name": "LayoutView",
            "align_content": null,
            "align_items": null,
            "align_self": null,
            "border": null,
            "bottom": null,
            "display": null,
            "flex": null,
            "flex_flow": null,
            "grid_area": null,
            "grid_auto_columns": null,
            "grid_auto_flow": null,
            "grid_auto_rows": null,
            "grid_column": null,
            "grid_gap": null,
            "grid_row": null,
            "grid_template_areas": null,
            "grid_template_columns": null,
            "grid_template_rows": null,
            "height": null,
            "justify_content": null,
            "justify_items": null,
            "left": null,
            "margin": null,
            "max_height": null,
            "max_width": null,
            "min_height": null,
            "min_width": null,
            "object_fit": null,
            "object_position": null,
            "order": null,
            "overflow": null,
            "overflow_x": null,
            "overflow_y": null,
            "padding": null,
            "right": null,
            "top": null,
            "visibility": null,
            "width": "20px"
          }
        },
        "87bc3e848700473f904922f1e5378a03": {
          "model_module": "@jupyter-widgets/controls",
          "model_name": "ProgressStyleModel",
          "model_module_version": "1.5.0",
          "state": {
            "_model_module": "@jupyter-widgets/controls",
            "_model_module_version": "1.5.0",
            "_model_name": "ProgressStyleModel",
            "_view_count": null,
            "_view_module": "@jupyter-widgets/base",
            "_view_module_version": "1.2.0",
            "_view_name": "StyleView",
            "bar_color": null,
            "description_width": ""
          }
        },
        "b497dfcd292a4f219dcb94e13b19de7c": {
          "model_module": "@jupyter-widgets/base",
          "model_name": "LayoutModel",
          "model_module_version": "1.2.0",
          "state": {
            "_model_module": "@jupyter-widgets/base",
            "_model_module_version": "1.2.0",
            "_model_name": "LayoutModel",
            "_view_count": null,
            "_view_module": "@jupyter-widgets/base",
            "_view_module_version": "1.2.0",
            "_view_name": "LayoutView",
            "align_content": null,
            "align_items": null,
            "align_self": null,
            "border": null,
            "bottom": null,
            "display": null,
            "flex": null,
            "flex_flow": null,
            "grid_area": null,
            "grid_auto_columns": null,
            "grid_auto_flow": null,
            "grid_auto_rows": null,
            "grid_column": null,
            "grid_gap": null,
            "grid_row": null,
            "grid_template_areas": null,
            "grid_template_columns": null,
            "grid_template_rows": null,
            "height": null,
            "justify_content": null,
            "justify_items": null,
            "left": null,
            "margin": null,
            "max_height": null,
            "max_width": null,
            "min_height": null,
            "min_width": null,
            "object_fit": null,
            "object_position": null,
            "order": null,
            "overflow": null,
            "overflow_x": null,
            "overflow_y": null,
            "padding": null,
            "right": null,
            "top": null,
            "visibility": null,
            "width": null
          }
        },
        "36aade5c44f843f3874a55859727c86a": {
          "model_module": "@jupyter-widgets/controls",
          "model_name": "DescriptionStyleModel",
          "model_module_version": "1.5.0",
          "state": {
            "_model_module": "@jupyter-widgets/controls",
            "_model_module_version": "1.5.0",
            "_model_name": "DescriptionStyleModel",
            "_view_count": null,
            "_view_module": "@jupyter-widgets/base",
            "_view_module_version": "1.2.0",
            "_view_name": "StyleView",
            "description_width": ""
          }
        },
        "92acfe0b29ee4b359d15cb46de3c8de5": {
          "model_module": "@jupyter-widgets/controls",
          "model_name": "HBoxModel",
          "model_module_version": "1.5.0",
          "state": {
            "_dom_classes": [],
            "_model_module": "@jupyter-widgets/controls",
            "_model_module_version": "1.5.0",
            "_model_name": "HBoxModel",
            "_view_count": null,
            "_view_module": "@jupyter-widgets/controls",
            "_view_module_version": "1.5.0",
            "_view_name": "HBoxView",
            "box_style": "",
            "children": [
              "IPY_MODEL_2a016d51cd1748158215d6b2cb8ea07c",
              "IPY_MODEL_c75cc5df707542838099e63c951455a3",
              "IPY_MODEL_f2869d7ecbaa455281597a6ac61dd23a"
            ],
            "layout": "IPY_MODEL_146b1638ff2143fcb044aa2badcadb09"
          }
        },
        "2a016d51cd1748158215d6b2cb8ea07c": {
          "model_module": "@jupyter-widgets/controls",
          "model_name": "HTMLModel",
          "model_module_version": "1.5.0",
          "state": {
            "_dom_classes": [],
            "_model_module": "@jupyter-widgets/controls",
            "_model_module_version": "1.5.0",
            "_model_name": "HTMLModel",
            "_view_count": null,
            "_view_module": "@jupyter-widgets/controls",
            "_view_module_version": "1.5.0",
            "_view_name": "HTMLView",
            "description": "",
            "description_tooltip": null,
            "layout": "IPY_MODEL_e09fecd4e2694488be3b5a923519c09e",
            "placeholder": "​",
            "style": "IPY_MODEL_f58d335148ae497a8dff728e39b2cd6a",
            "value": "pytorch_model.bin: 100%"
          }
        },
        "c75cc5df707542838099e63c951455a3": {
          "model_module": "@jupyter-widgets/controls",
          "model_name": "FloatProgressModel",
          "model_module_version": "1.5.0",
          "state": {
            "_dom_classes": [],
            "_model_module": "@jupyter-widgets/controls",
            "_model_module_version": "1.5.0",
            "_model_name": "FloatProgressModel",
            "_view_count": null,
            "_view_module": "@jupyter-widgets/controls",
            "_view_module_version": "1.5.0",
            "_view_name": "ProgressView",
            "bar_style": "success",
            "description": "",
            "description_tooltip": null,
            "layout": "IPY_MODEL_1692729529894e3aa6cd65c08866466d",
            "max": 414046827,
            "min": 0,
            "orientation": "horizontal",
            "style": "IPY_MODEL_ab65b5156e6a4c12b1c1895abe95ccf9",
            "value": 414046827
          }
        },
        "f2869d7ecbaa455281597a6ac61dd23a": {
          "model_module": "@jupyter-widgets/controls",
          "model_name": "HTMLModel",
          "model_module_version": "1.5.0",
          "state": {
            "_dom_classes": [],
            "_model_module": "@jupyter-widgets/controls",
            "_model_module_version": "1.5.0",
            "_model_name": "HTMLModel",
            "_view_count": null,
            "_view_module": "@jupyter-widgets/controls",
            "_view_module_version": "1.5.0",
            "_view_name": "HTMLView",
            "description": "",
            "description_tooltip": null,
            "layout": "IPY_MODEL_36022fc5b0d64ac48102706836f938bc",
            "placeholder": "​",
            "style": "IPY_MODEL_1683fa0d0f6b473d89e666e64fb0ef3f",
            "value": " 414M/414M [00:02&lt;00:00, 301MB/s]"
          }
        },
        "146b1638ff2143fcb044aa2badcadb09": {
          "model_module": "@jupyter-widgets/base",
          "model_name": "LayoutModel",
          "model_module_version": "1.2.0",
          "state": {
            "_model_module": "@jupyter-widgets/base",
            "_model_module_version": "1.2.0",
            "_model_name": "LayoutModel",
            "_view_count": null,
            "_view_module": "@jupyter-widgets/base",
            "_view_module_version": "1.2.0",
            "_view_name": "LayoutView",
            "align_content": null,
            "align_items": null,
            "align_self": null,
            "border": null,
            "bottom": null,
            "display": null,
            "flex": null,
            "flex_flow": null,
            "grid_area": null,
            "grid_auto_columns": null,
            "grid_auto_flow": null,
            "grid_auto_rows": null,
            "grid_column": null,
            "grid_gap": null,
            "grid_row": null,
            "grid_template_areas": null,
            "grid_template_columns": null,
            "grid_template_rows": null,
            "height": null,
            "justify_content": null,
            "justify_items": null,
            "left": null,
            "margin": null,
            "max_height": null,
            "max_width": null,
            "min_height": null,
            "min_width": null,
            "object_fit": null,
            "object_position": null,
            "order": null,
            "overflow": null,
            "overflow_x": null,
            "overflow_y": null,
            "padding": null,
            "right": null,
            "top": null,
            "visibility": null,
            "width": null
          }
        },
        "e09fecd4e2694488be3b5a923519c09e": {
          "model_module": "@jupyter-widgets/base",
          "model_name": "LayoutModel",
          "model_module_version": "1.2.0",
          "state": {
            "_model_module": "@jupyter-widgets/base",
            "_model_module_version": "1.2.0",
            "_model_name": "LayoutModel",
            "_view_count": null,
            "_view_module": "@jupyter-widgets/base",
            "_view_module_version": "1.2.0",
            "_view_name": "LayoutView",
            "align_content": null,
            "align_items": null,
            "align_self": null,
            "border": null,
            "bottom": null,
            "display": null,
            "flex": null,
            "flex_flow": null,
            "grid_area": null,
            "grid_auto_columns": null,
            "grid_auto_flow": null,
            "grid_auto_rows": null,
            "grid_column": null,
            "grid_gap": null,
            "grid_row": null,
            "grid_template_areas": null,
            "grid_template_columns": null,
            "grid_template_rows": null,
            "height": null,
            "justify_content": null,
            "justify_items": null,
            "left": null,
            "margin": null,
            "max_height": null,
            "max_width": null,
            "min_height": null,
            "min_width": null,
            "object_fit": null,
            "object_position": null,
            "order": null,
            "overflow": null,
            "overflow_x": null,
            "overflow_y": null,
            "padding": null,
            "right": null,
            "top": null,
            "visibility": null,
            "width": null
          }
        },
        "f58d335148ae497a8dff728e39b2cd6a": {
          "model_module": "@jupyter-widgets/controls",
          "model_name": "DescriptionStyleModel",
          "model_module_version": "1.5.0",
          "state": {
            "_model_module": "@jupyter-widgets/controls",
            "_model_module_version": "1.5.0",
            "_model_name": "DescriptionStyleModel",
            "_view_count": null,
            "_view_module": "@jupyter-widgets/base",
            "_view_module_version": "1.2.0",
            "_view_name": "StyleView",
            "description_width": ""
          }
        },
        "1692729529894e3aa6cd65c08866466d": {
          "model_module": "@jupyter-widgets/base",
          "model_name": "LayoutModel",
          "model_module_version": "1.2.0",
          "state": {
            "_model_module": "@jupyter-widgets/base",
            "_model_module_version": "1.2.0",
            "_model_name": "LayoutModel",
            "_view_count": null,
            "_view_module": "@jupyter-widgets/base",
            "_view_module_version": "1.2.0",
            "_view_name": "LayoutView",
            "align_content": null,
            "align_items": null,
            "align_self": null,
            "border": null,
            "bottom": null,
            "display": null,
            "flex": null,
            "flex_flow": null,
            "grid_area": null,
            "grid_auto_columns": null,
            "grid_auto_flow": null,
            "grid_auto_rows": null,
            "grid_column": null,
            "grid_gap": null,
            "grid_row": null,
            "grid_template_areas": null,
            "grid_template_columns": null,
            "grid_template_rows": null,
            "height": null,
            "justify_content": null,
            "justify_items": null,
            "left": null,
            "margin": null,
            "max_height": null,
            "max_width": null,
            "min_height": null,
            "min_width": null,
            "object_fit": null,
            "object_position": null,
            "order": null,
            "overflow": null,
            "overflow_x": null,
            "overflow_y": null,
            "padding": null,
            "right": null,
            "top": null,
            "visibility": null,
            "width": null
          }
        },
        "ab65b5156e6a4c12b1c1895abe95ccf9": {
          "model_module": "@jupyter-widgets/controls",
          "model_name": "ProgressStyleModel",
          "model_module_version": "1.5.0",
          "state": {
            "_model_module": "@jupyter-widgets/controls",
            "_model_module_version": "1.5.0",
            "_model_name": "ProgressStyleModel",
            "_view_count": null,
            "_view_module": "@jupyter-widgets/base",
            "_view_module_version": "1.2.0",
            "_view_name": "StyleView",
            "bar_color": null,
            "description_width": ""
          }
        },
        "36022fc5b0d64ac48102706836f938bc": {
          "model_module": "@jupyter-widgets/base",
          "model_name": "LayoutModel",
          "model_module_version": "1.2.0",
          "state": {
            "_model_module": "@jupyter-widgets/base",
            "_model_module_version": "1.2.0",
            "_model_name": "LayoutModel",
            "_view_count": null,
            "_view_module": "@jupyter-widgets/base",
            "_view_module_version": "1.2.0",
            "_view_name": "LayoutView",
            "align_content": null,
            "align_items": null,
            "align_self": null,
            "border": null,
            "bottom": null,
            "display": null,
            "flex": null,
            "flex_flow": null,
            "grid_area": null,
            "grid_auto_columns": null,
            "grid_auto_flow": null,
            "grid_auto_rows": null,
            "grid_column": null,
            "grid_gap": null,
            "grid_row": null,
            "grid_template_areas": null,
            "grid_template_columns": null,
            "grid_template_rows": null,
            "height": null,
            "justify_content": null,
            "justify_items": null,
            "left": null,
            "margin": null,
            "max_height": null,
            "max_width": null,
            "min_height": null,
            "min_width": null,
            "object_fit": null,
            "object_position": null,
            "order": null,
            "overflow": null,
            "overflow_x": null,
            "overflow_y": null,
            "padding": null,
            "right": null,
            "top": null,
            "visibility": null,
            "width": null
          }
        },
        "1683fa0d0f6b473d89e666e64fb0ef3f": {
          "model_module": "@jupyter-widgets/controls",
          "model_name": "DescriptionStyleModel",
          "model_module_version": "1.5.0",
          "state": {
            "_model_module": "@jupyter-widgets/controls",
            "_model_module_version": "1.5.0",
            "_model_name": "DescriptionStyleModel",
            "_view_count": null,
            "_view_module": "@jupyter-widgets/base",
            "_view_module_version": "1.2.0",
            "_view_name": "StyleView",
            "description_width": ""
          }
        },
        "e22a2c933f054754972eca82f130e5fe": {
          "model_module": "@jupyter-widgets/controls",
          "model_name": "HBoxModel",
          "model_module_version": "1.5.0",
          "state": {
            "_dom_classes": [],
            "_model_module": "@jupyter-widgets/controls",
            "_model_module_version": "1.5.0",
            "_model_name": "HBoxModel",
            "_view_count": null,
            "_view_module": "@jupyter-widgets/controls",
            "_view_module_version": "1.5.0",
            "_view_name": "HBoxView",
            "box_style": "",
            "children": [
              "IPY_MODEL_bd31c86f61a649c894cb8ca2de5e1112",
              "IPY_MODEL_aeb9f05051274942abfdb5e71b94af2f",
              "IPY_MODEL_fa11da05ead3412ca325cdc25ddd4b5d"
            ],
            "layout": "IPY_MODEL_fe65c58b74ba4643a406543a5421406e"
          }
        },
        "bd31c86f61a649c894cb8ca2de5e1112": {
          "model_module": "@jupyter-widgets/controls",
          "model_name": "HTMLModel",
          "model_module_version": "1.5.0",
          "state": {
            "_dom_classes": [],
            "_model_module": "@jupyter-widgets/controls",
            "_model_module_version": "1.5.0",
            "_model_name": "HTMLModel",
            "_view_count": null,
            "_view_module": "@jupyter-widgets/controls",
            "_view_module_version": "1.5.0",
            "_view_name": "HTMLView",
            "description": "",
            "description_tooltip": null,
            "layout": "IPY_MODEL_68de5b0a46cf40b4b53284357ad37bc5",
            "placeholder": "​",
            "style": "IPY_MODEL_85339a1cb15846779f68ef255fd681fd",
            "value": "Fetching 1 files: 100%"
          }
        },
        "aeb9f05051274942abfdb5e71b94af2f": {
          "model_module": "@jupyter-widgets/controls",
          "model_name": "FloatProgressModel",
          "model_module_version": "1.5.0",
          "state": {
            "_dom_classes": [],
            "_model_module": "@jupyter-widgets/controls",
            "_model_module_version": "1.5.0",
            "_model_name": "FloatProgressModel",
            "_view_count": null,
            "_view_module": "@jupyter-widgets/controls",
            "_view_module_version": "1.5.0",
            "_view_name": "ProgressView",
            "bar_style": "success",
            "description": "",
            "description_tooltip": null,
            "layout": "IPY_MODEL_678169a65a9948899da67098f9593682",
            "max": 1,
            "min": 0,
            "orientation": "horizontal",
            "style": "IPY_MODEL_7d923d4ac4fb42a2b8f3ce3305d14080",
            "value": 1
          }
        },
        "fa11da05ead3412ca325cdc25ddd4b5d": {
          "model_module": "@jupyter-widgets/controls",
          "model_name": "HTMLModel",
          "model_module_version": "1.5.0",
          "state": {
            "_dom_classes": [],
            "_model_module": "@jupyter-widgets/controls",
            "_model_module_version": "1.5.0",
            "_model_name": "HTMLModel",
            "_view_count": null,
            "_view_module": "@jupyter-widgets/controls",
            "_view_module_version": "1.5.0",
            "_view_name": "HTMLView",
            "description": "",
            "description_tooltip": null,
            "layout": "IPY_MODEL_708a0444f7784dde87b0ba9c89cb6783",
            "placeholder": "​",
            "style": "IPY_MODEL_6ff7cb1c0b6a4106a485ce74f4499fc2",
            "value": " 1/1 [00:00&lt;00:00, 127.15it/s]"
          }
        },
        "fe65c58b74ba4643a406543a5421406e": {
          "model_module": "@jupyter-widgets/base",
          "model_name": "LayoutModel",
          "model_module_version": "1.2.0",
          "state": {
            "_model_module": "@jupyter-widgets/base",
            "_model_module_version": "1.2.0",
            "_model_name": "LayoutModel",
            "_view_count": null,
            "_view_module": "@jupyter-widgets/base",
            "_view_module_version": "1.2.0",
            "_view_name": "LayoutView",
            "align_content": null,
            "align_items": null,
            "align_self": null,
            "border": null,
            "bottom": null,
            "display": null,
            "flex": null,
            "flex_flow": null,
            "grid_area": null,
            "grid_auto_columns": null,
            "grid_auto_flow": null,
            "grid_auto_rows": null,
            "grid_column": null,
            "grid_gap": null,
            "grid_row": null,
            "grid_template_areas": null,
            "grid_template_columns": null,
            "grid_template_rows": null,
            "height": null,
            "justify_content": null,
            "justify_items": null,
            "left": null,
            "margin": null,
            "max_height": null,
            "max_width": null,
            "min_height": null,
            "min_width": null,
            "object_fit": null,
            "object_position": null,
            "order": null,
            "overflow": null,
            "overflow_x": null,
            "overflow_y": null,
            "padding": null,
            "right": null,
            "top": null,
            "visibility": null,
            "width": null
          }
        },
        "68de5b0a46cf40b4b53284357ad37bc5": {
          "model_module": "@jupyter-widgets/base",
          "model_name": "LayoutModel",
          "model_module_version": "1.2.0",
          "state": {
            "_model_module": "@jupyter-widgets/base",
            "_model_module_version": "1.2.0",
            "_model_name": "LayoutModel",
            "_view_count": null,
            "_view_module": "@jupyter-widgets/base",
            "_view_module_version": "1.2.0",
            "_view_name": "LayoutView",
            "align_content": null,
            "align_items": null,
            "align_self": null,
            "border": null,
            "bottom": null,
            "display": null,
            "flex": null,
            "flex_flow": null,
            "grid_area": null,
            "grid_auto_columns": null,
            "grid_auto_flow": null,
            "grid_auto_rows": null,
            "grid_column": null,
            "grid_gap": null,
            "grid_row": null,
            "grid_template_areas": null,
            "grid_template_columns": null,
            "grid_template_rows": null,
            "height": null,
            "justify_content": null,
            "justify_items": null,
            "left": null,
            "margin": null,
            "max_height": null,
            "max_width": null,
            "min_height": null,
            "min_width": null,
            "object_fit": null,
            "object_position": null,
            "order": null,
            "overflow": null,
            "overflow_x": null,
            "overflow_y": null,
            "padding": null,
            "right": null,
            "top": null,
            "visibility": null,
            "width": null
          }
        },
        "85339a1cb15846779f68ef255fd681fd": {
          "model_module": "@jupyter-widgets/controls",
          "model_name": "DescriptionStyleModel",
          "model_module_version": "1.5.0",
          "state": {
            "_model_module": "@jupyter-widgets/controls",
            "_model_module_version": "1.5.0",
            "_model_name": "DescriptionStyleModel",
            "_view_count": null,
            "_view_module": "@jupyter-widgets/base",
            "_view_module_version": "1.2.0",
            "_view_name": "StyleView",
            "description_width": ""
          }
        },
        "678169a65a9948899da67098f9593682": {
          "model_module": "@jupyter-widgets/base",
          "model_name": "LayoutModel",
          "model_module_version": "1.2.0",
          "state": {
            "_model_module": "@jupyter-widgets/base",
            "_model_module_version": "1.2.0",
            "_model_name": "LayoutModel",
            "_view_count": null,
            "_view_module": "@jupyter-widgets/base",
            "_view_module_version": "1.2.0",
            "_view_name": "LayoutView",
            "align_content": null,
            "align_items": null,
            "align_self": null,
            "border": null,
            "bottom": null,
            "display": null,
            "flex": null,
            "flex_flow": null,
            "grid_area": null,
            "grid_auto_columns": null,
            "grid_auto_flow": null,
            "grid_auto_rows": null,
            "grid_column": null,
            "grid_gap": null,
            "grid_row": null,
            "grid_template_areas": null,
            "grid_template_columns": null,
            "grid_template_rows": null,
            "height": null,
            "justify_content": null,
            "justify_items": null,
            "left": null,
            "margin": null,
            "max_height": null,
            "max_width": null,
            "min_height": null,
            "min_width": null,
            "object_fit": null,
            "object_position": null,
            "order": null,
            "overflow": null,
            "overflow_x": null,
            "overflow_y": null,
            "padding": null,
            "right": null,
            "top": null,
            "visibility": null,
            "width": null
          }
        },
        "7d923d4ac4fb42a2b8f3ce3305d14080": {
          "model_module": "@jupyter-widgets/controls",
          "model_name": "ProgressStyleModel",
          "model_module_version": "1.5.0",
          "state": {
            "_model_module": "@jupyter-widgets/controls",
            "_model_module_version": "1.5.0",
            "_model_name": "ProgressStyleModel",
            "_view_count": null,
            "_view_module": "@jupyter-widgets/base",
            "_view_module_version": "1.2.0",
            "_view_name": "StyleView",
            "bar_color": null,
            "description_width": ""
          }
        },
        "708a0444f7784dde87b0ba9c89cb6783": {
          "model_module": "@jupyter-widgets/base",
          "model_name": "LayoutModel",
          "model_module_version": "1.2.0",
          "state": {
            "_model_module": "@jupyter-widgets/base",
            "_model_module_version": "1.2.0",
            "_model_name": "LayoutModel",
            "_view_count": null,
            "_view_module": "@jupyter-widgets/base",
            "_view_module_version": "1.2.0",
            "_view_name": "LayoutView",
            "align_content": null,
            "align_items": null,
            "align_self": null,
            "border": null,
            "bottom": null,
            "display": null,
            "flex": null,
            "flex_flow": null,
            "grid_area": null,
            "grid_auto_columns": null,
            "grid_auto_flow": null,
            "grid_auto_rows": null,
            "grid_column": null,
            "grid_gap": null,
            "grid_row": null,
            "grid_template_areas": null,
            "grid_template_columns": null,
            "grid_template_rows": null,
            "height": null,
            "justify_content": null,
            "justify_items": null,
            "left": null,
            "margin": null,
            "max_height": null,
            "max_width": null,
            "min_height": null,
            "min_width": null,
            "object_fit": null,
            "object_position": null,
            "order": null,
            "overflow": null,
            "overflow_x": null,
            "overflow_y": null,
            "padding": null,
            "right": null,
            "top": null,
            "visibility": null,
            "width": null
          }
        },
        "6ff7cb1c0b6a4106a485ce74f4499fc2": {
          "model_module": "@jupyter-widgets/controls",
          "model_name": "DescriptionStyleModel",
          "model_module_version": "1.5.0",
          "state": {
            "_model_module": "@jupyter-widgets/controls",
            "_model_module_version": "1.5.0",
            "_model_name": "DescriptionStyleModel",
            "_view_count": null,
            "_view_module": "@jupyter-widgets/base",
            "_view_module_version": "1.2.0",
            "_view_name": "StyleView",
            "description_width": ""
          }
        }
      }
    }
  },
  "cells": [
    {
      "cell_type": "code",
      "source": [
        "!pip install -q torchinfo"
      ],
      "metadata": {
        "id": "Swn834_ruKCb"
      },
      "execution_count": 4,
      "outputs": []
    },
    {
      "cell_type": "code",
      "source": [
        "!pip install -q monai"
      ],
      "metadata": {
        "id": "jqp4fvfoRa2R",
        "colab": {
          "base_uri": "https://localhost:8080/"
        },
        "outputId": "7eae41c9-f456-4392-eaa6-e86da13cb73c"
      },
      "execution_count": 1,
      "outputs": [
        {
          "output_type": "stream",
          "name": "stdout",
          "text": [
            "\u001b[2K   \u001b[90m━━━━━━━━━━━━━━━━━━━━━━━━━━━━━━━━━━━━━━━━\u001b[0m \u001b[32m2.7/2.7 MB\u001b[0m \u001b[31m48.7 MB/s\u001b[0m eta \u001b[36m0:00:00\u001b[0m\n",
            "\u001b[2K   \u001b[90m━━━━━━━━━━━━━━━━━━━━━━━━━━━━━━━━━━━━━━━━\u001b[0m \u001b[32m766.6/766.6 MB\u001b[0m \u001b[31m1.9 MB/s\u001b[0m eta \u001b[36m0:00:00\u001b[0m\n",
            "\u001b[2K   \u001b[90m━━━━━━━━━━━━━━━━━━━━━━━━━━━━━━━━━━━━━━━━\u001b[0m \u001b[32m363.4/363.4 MB\u001b[0m \u001b[31m2.9 MB/s\u001b[0m eta \u001b[36m0:00:00\u001b[0m\n",
            "\u001b[2K   \u001b[90m━━━━━━━━━━━━━━━━━━━━━━━━━━━━━━━━━━━━━━━━\u001b[0m \u001b[32m13.8/13.8 MB\u001b[0m \u001b[31m128.6 MB/s\u001b[0m eta \u001b[36m0:00:00\u001b[0m\n",
            "\u001b[2K   \u001b[90m━━━━━━━━━━━━━━━━━━━━━━━━━━━━━━━━━━━━━━━━\u001b[0m \u001b[32m24.6/24.6 MB\u001b[0m \u001b[31m93.8 MB/s\u001b[0m eta \u001b[36m0:00:00\u001b[0m\n",
            "\u001b[2K   \u001b[90m━━━━━━━━━━━━━━━━━━━━━━━━━━━━━━━━━━━━━━━━\u001b[0m \u001b[32m883.7/883.7 kB\u001b[0m \u001b[31m57.8 MB/s\u001b[0m eta \u001b[36m0:00:00\u001b[0m\n",
            "\u001b[2K   \u001b[90m━━━━━━━━━━━━━━━━━━━━━━━━━━━━━━━━━━━━━━━━\u001b[0m \u001b[32m664.8/664.8 MB\u001b[0m \u001b[31m2.1 MB/s\u001b[0m eta \u001b[36m0:00:00\u001b[0m\n",
            "\u001b[2K   \u001b[90m━━━━━━━━━━━━━━━━━━━━━━━━━━━━━━━━━━━━━━━━\u001b[0m \u001b[32m211.5/211.5 MB\u001b[0m \u001b[31m4.8 MB/s\u001b[0m eta \u001b[36m0:00:00\u001b[0m\n",
            "\u001b[2K   \u001b[90m━━━━━━━━━━━━━━━━━━━━━━━━━━━━━━━━━━━━━━━━\u001b[0m \u001b[32m56.3/56.3 MB\u001b[0m \u001b[31m44.5 MB/s\u001b[0m eta \u001b[36m0:00:00\u001b[0m\n",
            "\u001b[2K   \u001b[90m━━━━━━━━━━━━━━━━━━━━━━━━━━━━━━━━━━━━━━━━\u001b[0m \u001b[32m127.9/127.9 MB\u001b[0m \u001b[31m20.4 MB/s\u001b[0m eta \u001b[36m0:00:00\u001b[0m\n",
            "\u001b[2K   \u001b[90m━━━━━━━━━━━━━━━━━━━━━━━━━━━━━━━━━━━━━━━━\u001b[0m \u001b[32m207.5/207.5 MB\u001b[0m \u001b[31m4.2 MB/s\u001b[0m eta \u001b[36m0:00:00\u001b[0m\n",
            "\u001b[2K   \u001b[90m━━━━━━━━━━━━━━━━━━━━━━━━━━━━━━━━━━━━━━━━\u001b[0m \u001b[32m150.1/150.1 MB\u001b[0m \u001b[31m17.0 MB/s\u001b[0m eta \u001b[36m0:00:00\u001b[0m\n",
            "\u001b[2K   \u001b[90m━━━━━━━━━━━━━━━━━━━━━━━━━━━━━━━━━━━━━━━━\u001b[0m \u001b[32m188.7/188.7 MB\u001b[0m \u001b[31m4.5 MB/s\u001b[0m eta \u001b[36m0:00:00\u001b[0m\n",
            "\u001b[2K   \u001b[90m━━━━━━━━━━━━━━━━━━━━━━━━━━━━━━━━━━━━━━━━\u001b[0m \u001b[32m21.1/21.1 MB\u001b[0m \u001b[31m113.0 MB/s\u001b[0m eta \u001b[36m0:00:00\u001b[0m\n",
            "\u001b[2K   \u001b[90m━━━━━━━━━━━━━━━━━━━━━━━━━━━━━━━━━━━━━━━━\u001b[0m \u001b[32m99.1/99.1 kB\u001b[0m \u001b[31m9.5 MB/s\u001b[0m eta \u001b[36m0:00:00\u001b[0m\n",
            "\u001b[2K   \u001b[90m━━━━━━━━━━━━━━━━━━━━━━━━━━━━━━━━━━━━━━━━\u001b[0m \u001b[32m6.2/6.2 MB\u001b[0m \u001b[31m131.8 MB/s\u001b[0m eta \u001b[36m0:00:00\u001b[0m\n",
            "\u001b[2K   \u001b[90m━━━━━━━━━━━━━━━━━━━━━━━━━━━━━━━━━━━━━━━━\u001b[0m \u001b[32m253.2/253.2 MB\u001b[0m \u001b[31m4.1 MB/s\u001b[0m eta \u001b[36m0:00:00\u001b[0m\n",
            "\u001b[?25h\u001b[31mERROR: pip's dependency resolver does not currently take into account all the packages that are installed. This behaviour is the source of the following dependency conflicts.\n",
            "torchaudio 2.8.0+cu126 requires torch==2.8.0, but you have torch 2.6.0 which is incompatible.\n",
            "torchvision 0.23.0+cu126 requires torch==2.8.0, but you have torch 2.6.0 which is incompatible.\u001b[0m\u001b[31m\n",
            "\u001b[0m"
          ]
        }
      ]
    },
    {
      "cell_type": "code",
      "source": [
        "!pip install -q timm"
      ],
      "metadata": {
        "colab": {
          "base_uri": "https://localhost:8080/"
        },
        "id": "A-3tlHYRKDwb",
        "outputId": "bcc557da-f039-4aeb-d86d-341a8aef81a1"
      },
      "execution_count": 3,
      "outputs": [
        {
          "output_type": "stream",
          "name": "stdout",
          "text": [
            "\u001b[2K   \u001b[90m━━━━━━━━━━━━━━━━━━━━━━━━━━━━━━━━━━━━━━━━\u001b[0m \u001b[32m887.9/887.9 MB\u001b[0m \u001b[31m1.8 MB/s\u001b[0m eta \u001b[36m0:00:00\u001b[0m\n",
            "\u001b[2K   \u001b[90m━━━━━━━━━━━━━━━━━━━━━━━━━━━━━━━━━━━━━━━━\u001b[0m \u001b[32m594.3/594.3 MB\u001b[0m \u001b[31m2.4 MB/s\u001b[0m eta \u001b[36m0:00:00\u001b[0m\n",
            "\u001b[2K   \u001b[90m━━━━━━━━━━━━━━━━━━━━━━━━━━━━━━━━━━━━━━━━\u001b[0m \u001b[32m10.2/10.2 MB\u001b[0m \u001b[31m142.1 MB/s\u001b[0m eta \u001b[36m0:00:00\u001b[0m\n",
            "\u001b[2K   \u001b[90m━━━━━━━━━━━━━━━━━━━━━━━━━━━━━━━━━━━━━━━━\u001b[0m \u001b[32m88.0/88.0 MB\u001b[0m \u001b[31m28.9 MB/s\u001b[0m eta \u001b[36m0:00:00\u001b[0m\n",
            "\u001b[2K   \u001b[90m━━━━━━━━━━━━━━━━━━━━━━━━━━━━━━━━━━━━━━━━\u001b[0m \u001b[32m954.8/954.8 kB\u001b[0m \u001b[31m68.2 MB/s\u001b[0m eta \u001b[36m0:00:00\u001b[0m\n",
            "\u001b[2K   \u001b[90m━━━━━━━━━━━━━━━━━━━━━━━━━━━━━━━━━━━━━━━━\u001b[0m \u001b[32m706.8/706.8 MB\u001b[0m \u001b[31m2.1 MB/s\u001b[0m eta \u001b[36m0:00:00\u001b[0m\n",
            "\u001b[2K   \u001b[90m━━━━━━━━━━━━━━━━━━━━━━━━━━━━━━━━━━━━━━━━\u001b[0m \u001b[32m193.1/193.1 MB\u001b[0m \u001b[31m5.3 MB/s\u001b[0m eta \u001b[36m0:00:00\u001b[0m\n",
            "\u001b[2K   \u001b[90m━━━━━━━━━━━━━━━━━━━━━━━━━━━━━━━━━━━━━━━━\u001b[0m \u001b[32m1.2/1.2 MB\u001b[0m \u001b[31m71.1 MB/s\u001b[0m eta \u001b[36m0:00:00\u001b[0m\n",
            "\u001b[2K   \u001b[90m━━━━━━━━━━━━━━━━━━━━━━━━━━━━━━━━━━━━━━━━\u001b[0m \u001b[32m63.6/63.6 MB\u001b[0m \u001b[31m38.5 MB/s\u001b[0m eta \u001b[36m0:00:00\u001b[0m\n",
            "\u001b[2K   \u001b[90m━━━━━━━━━━━━━━━━━━━━━━━━━━━━━━━━━━━━━━━━\u001b[0m \u001b[32m267.5/267.5 MB\u001b[0m \u001b[31m3.9 MB/s\u001b[0m eta \u001b[36m0:00:00\u001b[0m\n",
            "\u001b[2K   \u001b[90m━━━━━━━━━━━━━━━━━━━━━━━━━━━━━━━━━━━━━━━━\u001b[0m \u001b[32m288.2/288.2 MB\u001b[0m \u001b[31m4.0 MB/s\u001b[0m eta \u001b[36m0:00:00\u001b[0m\n",
            "\u001b[2K   \u001b[90m━━━━━━━━━━━━━━━━━━━━━━━━━━━━━━━━━━━━━━━━\u001b[0m \u001b[32m287.2/287.2 MB\u001b[0m \u001b[31m3.9 MB/s\u001b[0m eta \u001b[36m0:00:00\u001b[0m\n",
            "\u001b[2K   \u001b[90m━━━━━━━━━━━━━━━━━━━━━━━━━━━━━━━━━━━━━━━━\u001b[0m \u001b[32m322.4/322.4 MB\u001b[0m \u001b[31m3.7 MB/s\u001b[0m eta \u001b[36m0:00:00\u001b[0m\n",
            "\u001b[2K   \u001b[90m━━━━━━━━━━━━━━━━━━━━━━━━━━━━━━━━━━━━━━━━\u001b[0m \u001b[32m39.3/39.3 MB\u001b[0m \u001b[31m60.4 MB/s\u001b[0m eta \u001b[36m0:00:00\u001b[0m\n",
            "\u001b[2K   \u001b[90m━━━━━━━━━━━━━━━━━━━━━━━━━━━━━━━━━━━━━━━━\u001b[0m \u001b[32m90.0/90.0 kB\u001b[0m \u001b[31m9.8 MB/s\u001b[0m eta \u001b[36m0:00:00\u001b[0m\n",
            "\u001b[2K   \u001b[90m━━━━━━━━━━━━━━━━━━━━━━━━━━━━━━━━━━━━━━━━\u001b[0m \u001b[32m155.6/155.6 MB\u001b[0m \u001b[31m7.9 MB/s\u001b[0m eta \u001b[36m0:00:00\u001b[0m\n",
            "\u001b[2K   \u001b[90m━━━━━━━━━━━━━━━━━━━━━━━━━━━━━━━━━━━━━━━━\u001b[0m \u001b[32m6.3/6.3 MB\u001b[0m \u001b[31m97.9 MB/s\u001b[0m eta \u001b[36m0:00:00\u001b[0m\n",
            "\u001b[?25h\u001b[31mERROR: pip's dependency resolver does not currently take into account all the packages that are installed. This behaviour is the source of the following dependency conflicts.\n",
            "monai 1.5.0 requires torch<2.7.0,>=2.4.1, but you have torch 2.8.0 which is incompatible.\u001b[0m\u001b[31m\n",
            "\u001b[0m"
          ]
        }
      ]
    },
    {
      "cell_type": "code",
      "source": [
        "import os\n",
        "import shutil\n",
        "import tempfile\n",
        "import matplotlib.pyplot as plt\n",
        "import PIL\n",
        "from PIL import Image\n",
        "import torch\n",
        "import weakref\n",
        "from torch.utils.tensorboard import SummaryWriter\n",
        "import numpy as np\n",
        "from sklearn.metrics import classification_report\n",
        "from torch import nn\n",
        "import torch.nn.functional as F"
      ],
      "metadata": {
        "id": "NrvNTm5DXFNw"
      },
      "execution_count": 5,
      "outputs": []
    },
    {
      "cell_type": "code",
      "source": [
        "from monai.apps import download_and_extract\n",
        "from monai.config import print_config\n",
        "from monai.data import decollate_batch, DataLoader, create_test_image_3d\n",
        "from monai.metrics import ROCAUCMetric\n",
        "from monai.networks.nets import DenseNet121, ResNet\n",
        "from monai.transforms import (\n",
        "    Activations,\n",
        "    EnsureChannelFirst,\n",
        "    AsDiscrete,\n",
        "    Compose,\n",
        "    LoadImage,\n",
        "    RandFlip,\n",
        "    RandRotate,\n",
        "    RandZoom,\n",
        "    ScaleIntensity,\n",
        ")\n",
        "from monai.utils import set_determinism\n",
        "\n",
        "print_config()"
      ],
      "metadata": {
        "colab": {
          "base_uri": "https://localhost:8080/"
        },
        "id": "0DGMv98y738A",
        "outputId": "cf01de39-0a4b-4124-e356-6968386e4446"
      },
      "execution_count": 6,
      "outputs": [
        {
          "output_type": "stream",
          "name": "stdout",
          "text": [
            "MONAI version: 1.5.0\n",
            "Numpy version: 2.0.2\n",
            "Pytorch version: 2.8.0+cu128\n",
            "MONAI flags: HAS_EXT = False, USE_COMPILED = False, USE_META_DICT = False\n",
            "MONAI rev id: d388d1c6fec8cb3a0eebee5b5a0b9776ca59ca83\n",
            "MONAI __file__: /usr/local/lib/python3.12/dist-packages/monai/__init__.py\n",
            "\n",
            "Optional dependencies:\n",
            "Pytorch Ignite version: NOT INSTALLED or UNKNOWN VERSION.\n",
            "ITK version: NOT INSTALLED or UNKNOWN VERSION.\n",
            "Nibabel version: 5.3.2\n",
            "scikit-image version: 0.25.2\n",
            "scipy version: 1.16.1\n",
            "Pillow version: 11.3.0\n",
            "Tensorboard version: 2.19.0\n",
            "gdown version: 5.2.0\n",
            "TorchVision version: 0.23.0+cu126\n",
            "tqdm version: 4.67.1\n",
            "lmdb version: NOT INSTALLED or UNKNOWN VERSION.\n",
            "psutil version: 5.9.5\n",
            "pandas version: 2.2.2\n",
            "einops version: 0.8.1\n",
            "transformers version: 4.56.1\n",
            "mlflow version: NOT INSTALLED or UNKNOWN VERSION.\n",
            "pynrrd version: NOT INSTALLED or UNKNOWN VERSION.\n",
            "clearml version: NOT INSTALLED or UNKNOWN VERSION.\n",
            "\n",
            "For details about installing the optional dependencies, please visit:\n",
            "    https://docs.monai.io/en/latest/installation.html#installing-the-recommended-dependencies\n",
            "\n"
          ]
        }
      ]
    },
    {
      "cell_type": "code",
      "source": [
        "from torchinfo import summary"
      ],
      "metadata": {
        "id": "FH8Em5dGX9hd"
      },
      "execution_count": 7,
      "outputs": []
    },
    {
      "cell_type": "code",
      "source": [
        "from transformers import UperNetForSemanticSegmentation, AutoImageProcessor\n",
        "\n",
        "model = UperNetForSemanticSegmentation.from_pretrained(\n",
        "    \"openmmlab/upernet-swin-base\"\n",
        ")\n",
        "\n",
        "processor = AutoImageProcessor.from_pretrained(\"openmmlab/upernet-swin-base\")"
      ],
      "metadata": {
        "id": "vCbsriF6X0u9",
        "colab": {
          "base_uri": "https://localhost:8080/",
          "height": 49,
          "referenced_widgets": [
            "e22a2c933f054754972eca82f130e5fe",
            "bd31c86f61a649c894cb8ca2de5e1112",
            "aeb9f05051274942abfdb5e71b94af2f",
            "fa11da05ead3412ca325cdc25ddd4b5d",
            "fe65c58b74ba4643a406543a5421406e",
            "68de5b0a46cf40b4b53284357ad37bc5",
            "85339a1cb15846779f68ef255fd681fd",
            "678169a65a9948899da67098f9593682",
            "7d923d4ac4fb42a2b8f3ce3305d14080",
            "708a0444f7784dde87b0ba9c89cb6783",
            "6ff7cb1c0b6a4106a485ce74f4499fc2"
          ]
        },
        "outputId": "cc2c1606-b874-4d79-a027-923e8fb525ef"
      },
      "execution_count": 190,
      "outputs": [
        {
          "output_type": "display_data",
          "data": {
            "text/plain": [
              "Fetching 1 files:   0%|          | 0/1 [00:00<?, ?it/s]"
            ],
            "application/vnd.jupyter.widget-view+json": {
              "version_major": 2,
              "version_minor": 0,
              "model_id": "e22a2c933f054754972eca82f130e5fe"
            }
          },
          "metadata": {}
        }
      ]
    },
    {
      "cell_type": "code",
      "source": [
        "summary(model, input_size=(8, 3, 512, 512))  # (B,C,H,W)"
      ],
      "metadata": {
        "colab": {
          "base_uri": "https://localhost:8080/"
        },
        "id": "8fEvsbuJvDmU",
        "outputId": "22aef392-c67a-43b9-c527-183afea3dbe0"
      },
      "execution_count": 176,
      "outputs": [
        {
          "output_type": "execute_result",
          "data": {
            "text/plain": [
              "===================================================================================================================\n",
              "Layer (type:depth-idx)                                            Output Shape              Param #\n",
              "===================================================================================================================\n",
              "UperNetForSemanticSegmentation                                    [8, 150, 512, 512]        --\n",
              "├─SwinBackbone: 1-1                                               [8, 128, 128, 128]        --\n",
              "│    └─SwinEmbeddings: 2-1                                        [8, 16384, 128]           --\n",
              "│    │    └─SwinPatchEmbeddings: 3-1                              [8, 16384, 128]           6,272\n",
              "│    │    └─LayerNorm: 3-2                                        [8, 16384, 128]           256\n",
              "│    │    └─Dropout: 3-3                                          [8, 16384, 128]           --\n",
              "│    └─SwinEncoder: 2-2                                           [8, 128, 128, 128]        --\n",
              "│    │    └─ModuleList: 3-4                                       --                        86,870,008\n",
              "│    └─ModuleDict: 2-3                                            --                        --\n",
              "│    │    └─LayerNorm: 3-5                                        [8, 16384, 128]           256\n",
              "│    │    └─LayerNorm: 3-6                                        [8, 4096, 256]            512\n",
              "│    │    └─LayerNorm: 3-7                                        [8, 1024, 512]            1,024\n",
              "│    │    └─LayerNorm: 3-8                                        [8, 256, 1024]            2,048\n",
              "├─UperNetHead: 1-2                                                [8, 150, 128, 128]        --\n",
              "│    └─ModuleList: 2-4                                            --                        --\n",
              "│    │    └─UperNetConvModule: 3-9                                [8, 512, 128, 128]        66,560\n",
              "│    │    └─UperNetConvModule: 3-10                               [8, 512, 64, 64]          132,096\n",
              "│    │    └─UperNetConvModule: 3-11                               [8, 512, 32, 32]          263,168\n",
              "│    └─UperNetPyramidPoolingModule: 2-5                           [8, 512, 16, 16]          --\n",
              "│    │    └─UperNetPyramidPoolingBlock: 3-12                      [8, 512, 1, 1]            525,312\n",
              "│    │    └─UperNetPyramidPoolingBlock: 3-13                      [8, 512, 2, 2]            525,312\n",
              "│    │    └─UperNetPyramidPoolingBlock: 3-14                      [8, 512, 3, 3]            525,312\n",
              "│    │    └─UperNetPyramidPoolingBlock: 3-15                      [8, 512, 6, 6]            525,312\n",
              "│    └─UperNetConvModule: 2-6                                     [8, 512, 16, 16]          --\n",
              "│    │    └─Conv2d: 3-16                                          [8, 512, 16, 16]          14,155,776\n",
              "│    │    └─BatchNorm2d: 3-17                                     [8, 512, 16, 16]          1,024\n",
              "│    │    └─ReLU: 3-18                                            [8, 512, 16, 16]          --\n",
              "│    └─ModuleList: 2-7                                            --                        --\n",
              "│    │    └─UperNetConvModule: 3-19                               [8, 512, 128, 128]        2,360,320\n",
              "│    │    └─UperNetConvModule: 3-20                               [8, 512, 64, 64]          2,360,320\n",
              "│    │    └─UperNetConvModule: 3-21                               [8, 512, 32, 32]          2,360,320\n",
              "│    └─UperNetConvModule: 2-8                                     [8, 512, 128, 128]        --\n",
              "│    │    └─Conv2d: 3-22                                          [8, 512, 128, 128]        9,437,184\n",
              "│    │    └─BatchNorm2d: 3-23                                     [8, 512, 128, 128]        1,024\n",
              "│    │    └─ReLU: 3-24                                            [8, 512, 128, 128]        --\n",
              "│    └─Conv2d: 2-9                                                [8, 150, 128, 128]        76,950\n",
              "├─UperNetFCNHead: 1-3                                             [8, 150, 32, 32]          --\n",
              "│    └─Sequential: 2-10                                           [8, 256, 32, 32]          --\n",
              "│    │    └─UperNetConvModule: 3-25                               [8, 256, 32, 32]          1,180,160\n",
              "│    └─Conv2d: 2-11                                               [8, 150, 32, 32]          38,550\n",
              "===================================================================================================================\n",
              "Total params: 121,415,076\n",
              "Trainable params: 121,415,076\n",
              "Non-trainable params: 0\n",
              "Total mult-adds (Units.TERABYTES): 1.71\n",
              "===================================================================================================================\n",
              "Input size (MB): 25.17\n",
              "Forward/backward pass size (MB): 17447.78\n",
              "Params size (MB): 484.86\n",
              "Estimated Total Size (MB): 17957.81\n",
              "==================================================================================================================="
            ]
          },
          "metadata": {},
          "execution_count": 176
        }
      ]
    },
    {
      "cell_type": "code",
      "source": [
        "num_classes = 2\n",
        "\n",
        "# Replace the final classifier\n",
        "model.decode_head.classifier = nn.Conv2d(\n",
        "    in_channels=model.decode_head.classifier.in_channels,\n",
        "    out_channels=num_classes,\n",
        "    kernel_size=1\n",
        ")\n",
        "\n",
        "#summary(model, input_size=(8, 3, 224, 224))\n",
        "\n",
        "# REMEMBER: UperNetHead is the actual head, UperNetFCNHead is used only during training\n",
        "# to check whether compression is working"
      ],
      "metadata": {
        "id": "WxE3ZTVjmMdv"
      },
      "execution_count": 191,
      "outputs": []
    },
    {
      "cell_type": "code",
      "source": [
        "import types\n",
        "import torch.nn.functional as F\n",
        "from transformers.modeling_outputs import SemanticSegmenterOutput\n",
        "\n",
        "\n",
        "def new_forward(self, pixel_values=None, output_hidden_states=None, return_dict=True, **kwargs):\n",
        "    # get input shape\n",
        "    input_shape = pixel_values.shape if pixel_values is not None else None\n",
        "    # run backbone + head\n",
        "    outputs = self.backbone(pixel_values)\n",
        "    feats = outputs.feature_maps\n",
        "\n",
        "    logits = self.decode_head(feats)\n",
        "\n",
        "\n",
        "    # fix interpolation: only use H, W\n",
        "    if input_shape is not None:\n",
        "        h, w = input_shape[-2:]\n",
        "        logits = F.interpolate(logits, size=(h, w),\n",
        "                               mode=\"bilinear\", align_corners=False)\n",
        "    return SemanticSegmenterOutput(logits=logits)\n",
        "\n",
        "model.forward = types.MethodType(new_forward, model)\n"
      ],
      "metadata": {
        "id": "vu5_FLm9CdfQ"
      },
      "execution_count": 224,
      "outputs": []
    },
    {
      "cell_type": "code",
      "source": [
        "img3d, mask3d = create_test_image_3d(64, 64, 64, num_seg_classes=2, channel_dim=0)\n",
        "\n",
        "img3d = torch.tensor(img3d)   # [1, 64, 64, 64]\n",
        "mask3d = torch.tensor(mask3d)\n",
        "\n",
        "slice_idx = 32\n",
        "img2d = img3d[0, slice_idx].unsqueeze(-1).repeat(1, 1, 3).numpy()  # duplicates the last dimension 3 times -> fake RGB\n",
        "# because UPerNet expects a 3-channel RGB input"
      ],
      "metadata": {
        "id": "rILj7Itjczm-"
      },
      "execution_count": 209,
      "outputs": []
    },
    {
      "cell_type": "code",
      "source": [
        "plt.imshow(img2d.astype(\"float32\"), cmap=\"gray\")  # or just plt.imshow(img2d) since it's RGB\n",
        "plt.title(\"Dummy 2D slice\")\n",
        "plt.axis(\"off\")\n",
        "plt.show()"
      ],
      "metadata": {
        "colab": {
          "base_uri": "https://localhost:8080/",
          "height": 428
        },
        "id": "0_Noa2abdqTE",
        "outputId": "dcc19949-576c-4425-a71f-4ef8cbec9bb5"
      },
      "execution_count": 194,
      "outputs": [
        {
          "output_type": "display_data",
          "data": {
            "text/plain": [
              "<Figure size 640x480 with 1 Axes>"
            ],
            "image/png": "[encoded data removed]"
          },
          "metadata": {}
        }
      ]
    },
    {
      "cell_type": "code",
      "source": [
        "mask2d = mask3d[0, slice_idx].unsqueeze(-1).repeat(1, 1, 3).numpy()"
      ],
      "metadata": {
        "id": "Z2pNKMLhf2Ql"
      },
      "execution_count": 195,
      "outputs": []
    },
    {
      "cell_type": "code",
      "source": [
        "plt.imshow(mask2d.astype(\"float32\"), cmap=\"gray\")\n",
        "plt.title(\"Dummy 2D slice\")\n",
        "plt.axis(\"off\")\n",
        "plt.show()"
      ],
      "metadata": {
        "colab": {
          "base_uri": "https://localhost:8080/",
          "height": 465
        },
        "id": "JNmU0wOlfxie",
        "outputId": "0185cb4a-b012-43c5-bc7a-baf6737e8783"
      },
      "execution_count": 196,
      "outputs": [
        {
          "output_type": "stream",
          "name": "stderr",
          "text": [
            "WARNING:matplotlib.image:Clipping input data to the valid range for imshow with RGB data ([0..1] for floats or [0..255] for integers). Got range [0.0..2.0].\n"
          ]
        },
        {
          "output_type": "display_data",
          "data": {
            "text/plain": [
              "<Figure size 640x480 with 1 Axes>"
            ],
            "image/png": "[encoded data removed]"
          },
          "metadata": {}
        }
      ]
    },
    {
      "cell_type": "code",
      "source": [
        "# pre-process into the tensor-shape and normalization that the model expects\n",
        "inputs = processor(images=img2d, return_tensors=\"pt\")"
      ],
      "metadata": {
        "id": "ORcTIFEod1vC"
      },
      "execution_count": 215,
      "outputs": []
    },
    {
      "cell_type": "code",
      "source": [
        "inputs['pixel_values'].shape"
      ],
      "metadata": {
        "colab": {
          "base_uri": "https://localhost:8080/"
        },
        "id": "WoovlfWp7UeG",
        "outputId": "53f84a33-2f64-47a9-ef26-5d59d0979f47"
      },
      "execution_count": 211,
      "outputs": [
        {
          "output_type": "execute_result",
          "data": {
            "text/plain": [
              "torch.Size([1, 3, 512, 512])"
            ]
          },
          "metadata": {},
          "execution_count": 211
        }
      ]
    },
    {
      "cell_type": "code",
      "source": [
        "device = torch.device(\"cuda\" if torch.cuda.is_available() else \"cpu\")\n",
        "inputs.to(device);"
      ],
      "metadata": {
        "id": "WSvmLQCWEyXp"
      },
      "execution_count": 216,
      "outputs": []
    },
    {
      "cell_type": "code",
      "source": [
        "model.to(device)  # moves all params/buffers\n",
        "\n",
        "with torch.no_grad():\n",
        "    outputs = model(**inputs)\n",
        "\n",
        "logits = outputs.logits  # [1, num_classes, H', W']"
      ],
      "metadata": {
        "id": "lLG6NFhlv7cD",
        "colab": {
          "base_uri": "https://localhost:8080/"
        },
        "outputId": "a0bf2231-ca9e-4422-ba59-ce4f885a218f"
      },
      "execution_count": 225,
      "outputs": [
        {
          "output_type": "stream",
          "name": "stdout",
          "text": [
            "SemanticSegmenterOutput(loss=None, logits=tensor([[[[0.3494, 0.3494, 0.3482,  ..., 0.3685, 0.3779, 0.3779],\n",
            "          [0.3494, 0.3494, 0.3482,  ..., 0.3685, 0.3779, 0.3779],\n",
            "          [0.3629, 0.3629, 0.3611,  ..., 0.3809, 0.3904, 0.3904],\n",
            "          ...,\n",
            "          [0.4031, 0.4031, 0.3946,  ..., 0.4262, 0.4386, 0.4386],\n",
            "          [0.4018, 0.4018, 0.3945,  ..., 0.4429, 0.4548, 0.4548],\n",
            "          [0.4018, 0.4018, 0.3945,  ..., 0.4429, 0.4548, 0.4548]],\n",
            "\n",
            "         [[0.7491, 0.7491, 0.7252,  ..., 0.9384, 0.9842, 0.9842],\n",
            "          [0.7491, 0.7491, 0.7252,  ..., 0.9384, 0.9842, 0.9842],\n",
            "          [0.7263, 0.7263, 0.7001,  ..., 0.8902, 0.9340, 0.9340],\n",
            "          ...,\n",
            "          [0.7977, 0.7977, 0.7643,  ..., 0.7180, 0.7467, 0.7467],\n",
            "          [0.8313, 0.8313, 0.7955,  ..., 0.7483, 0.7778, 0.7778],\n",
            "          [0.8313, 0.8313, 0.7955,  ..., 0.7483, 0.7778, 0.7778]]]],\n",
            "       device='cuda:0'), hidden_states=None, attentions=None)\n"
          ]
        }
      ]
    },
    {
      "cell_type": "code",
      "source": [
        "# 6. Resize back to original size\n",
        "seg = processor.post_process_semantic_segmentation(outputs, target_sizes=[img2d.shape[:2]])\n",
        "seg = seg[0].cpu().numpy()"
      ],
      "metadata": {
        "id": "FlgOZxnoeGP-"
      },
      "execution_count": 226,
      "outputs": []
    },
    {
      "cell_type": "code",
      "source": [
        "# 7. Visualize\n",
        "plt.subplot(1,2,1)\n",
        "plt.imshow(img2d); plt.title(\"Input slice\")\n",
        "plt.subplot(1,2,2)\n",
        "plt.imshow(seg, cmap=\"viridis\"); plt.title(\"Predicted segmentation\")\n",
        "plt.show()"
      ],
      "metadata": {
        "colab": {
          "base_uri": "https://localhost:8080/",
          "height": 308
        },
        "id": "jLEe_k6IeKEh",
        "outputId": "4f85fcb5-fa78-428a-de4b-acf2417a9068"
      },
      "execution_count": 227,
      "outputs": [
        {
          "output_type": "display_data",
          "data": {
            "text/plain": [
              "<Figure size 640x480 with 2 Axes>"
            ],
            "image/png": "[encoded data removed]"
          },
          "metadata": {}
        }
      ]
    },
    {
      "cell_type": "code",
      "source": [
        "# Access backbone\n",
        "backbone = model.backbone  # this is SwinModel\n",
        "\n",
        "# Access patch embedding\n",
        "print(backbone.embeddings)"
      ],
      "metadata": {
        "colab": {
          "base_uri": "https://localhost:8080/"
        },
        "id": "fxSQ1nj_eLxb",
        "outputId": "483bd5b5-80f5-4b37-e5a9-a9a99d6a649a"
      },
      "execution_count": 228,
      "outputs": [
        {
          "output_type": "stream",
          "name": "stdout",
          "text": [
            "SwinEmbeddings(\n",
            "  (patch_embeddings): SwinPatchEmbeddings(\n",
            "    (projection): Conv2d(3, 128, kernel_size=(4, 4), stride=(4, 4))\n",
            "  )\n",
            "  (norm): LayerNorm((128,), eps=1e-05, elementwise_affine=True)\n",
            "  (dropout): Dropout(p=0.0, inplace=False)\n",
            ")\n"
          ]
        }
      ]
    },
    {
      "cell_type": "code",
      "source": [
        "conv2d = backbone.embeddings.patch_embeddings.projection\n",
        "W2d = conv2d.weight.data\n",
        "b2d = conv2d.bias.data"
      ],
      "metadata": {
        "id": "R2_evwha_WeW"
      },
      "execution_count": 229,
      "outputs": []
    },
    {
      "cell_type": "code",
      "source": [
        "type(inputs)"
      ],
      "metadata": {
        "colab": {
          "base_uri": "https://localhost:8080/",
          "height": 203
        },
        "id": "kX0blnonzVgy",
        "outputId": "6851b3d4-840a-4a62-8666-d80f98d0bb67"
      },
      "execution_count": 230,
      "outputs": [
        {
          "output_type": "execute_result",
          "data": {
            "text/plain": [
              "transformers.image_processing_base.BatchFeature"
            ],
            "text/html": [
              "<div style=\"max-width:800px; border: 1px solid var(--colab-border-color);\"><style>\n",
              "      pre.function-repr-contents {\n",
              "        overflow-x: auto;\n",
              "        padding: 8px 12px;\n",
              "        max-height: 500px;\n",
              "      }\n",
              "\n",
              "      pre.function-repr-contents.function-repr-contents-collapsed {\n",
              "        cursor: pointer;\n",
              "        max-height: 100px;\n",
              "      }\n",
              "    </style>\n",
              "    <pre style=\"white-space: initial; background:\n",
              "         var(--colab-secondary-surface-color); padding: 8px 12px;\n",
              "         border-bottom: 1px solid var(--colab-border-color);\"><b>transformers.image_processing_base.BatchFeature</b><br/>def __init__(data: Optional[dict[str, Any]]=None, tensor_type: Union[None, str, TensorType]=None)</pre><pre class=\"function-repr-contents function-repr-contents-collapsed\" style=\"\"><a class=\"filepath\" style=\"display:none\" href=\"#\">/usr/local/lib/python3.12/dist-packages/transformers/image_processing_base.py</a>Holds the output of the image processor specific `__call__` methods.\n",
              "\n",
              "This class is derived from a python dictionary and can be used as a dictionary.\n",
              "\n",
              "Args:\n",
              "    data (`dict`):\n",
              "        Dictionary of lists/arrays/tensors returned by the __call__ method (&#x27;pixel_values&#x27;, etc.).\n",
              "    tensor_type (`Union[None, str, TensorType]`, *optional*):\n",
              "        You can give a tensor_type here to convert the lists of integers in PyTorch/TensorFlow/Numpy Tensors at\n",
              "        initialization.</pre>\n",
              "      <script>\n",
              "      if (google.colab.kernel.accessAllowed && google.colab.files && google.colab.files.view) {\n",
              "        for (const element of document.querySelectorAll('.filepath')) {\n",
              "          element.style.display = 'block'\n",
              "          element.onclick = (event) => {\n",
              "            event.preventDefault();\n",
              "            event.stopPropagation();\n",
              "            google.colab.files.view(element.textContent, 48);\n",
              "          };\n",
              "        }\n",
              "      }\n",
              "      for (const element of document.querySelectorAll('.function-repr-contents')) {\n",
              "        element.onclick = (event) => {\n",
              "          event.preventDefault();\n",
              "          event.stopPropagation();\n",
              "          element.classList.toggle('function-repr-contents-collapsed');\n",
              "        };\n",
              "      }\n",
              "      </script>\n",
              "      </div>"
            ]
          },
          "metadata": {},
          "execution_count": 230
        }
      ]
    },
    {
      "cell_type": "code",
      "source": [
        "def preprocess_3d_volume(volume, depth_size=5, stride=1, mean=None, std=None):\n",
        "    \"\"\"\n",
        "    volume: torch.Tensor [C,D,H,W] or [D,H,W] if single-channel\n",
        "    depth_size: number of slices per window\n",
        "    stride: step along depth\n",
        "    \"\"\"\n",
        "    if volume.ndim == 3:\n",
        "        volume = volume.unsqueeze(0)  # [1,D,H,W]\n",
        "\n",
        "    C, D, H, W = volume.shape\n",
        "    windows = []\n",
        "    for start in range(0, D - depth_size + 1, stride):\n",
        "        clip = volume[:, start:start+depth_size, :, :]  # [C, depth_size, H, W]\n",
        "\n",
        "        # normalize like processor (ImageNet mean/std per channel)\n",
        "        if mean is not None and std is not None:\n",
        "            for c in range(C):\n",
        "                clip[c] = (clip[c] - mean[c]) / std[c]\n",
        "\n",
        "        windows.append(clip)\n",
        "\n",
        "    # [num_windows, C, depth_size, H, W]\n",
        "    return torch.stack(windows)\n"
      ],
      "metadata": {
        "id": "vfhCglJyzWMC"
      },
      "execution_count": 231,
      "outputs": []
    },
    {
      "cell_type": "code",
      "source": [
        "vol = torch.randn(1, 20, 224, 224)  # [C=1, D=20, H,W]\n",
        "windows = preprocess_3d_volume(vol, depth_size=5, stride=5)\n",
        "print(windows.shape)  # [num_windows, 1, 5, 224, 224]\n",
        "# non-overlapping windows due to stride = depth_size"
      ],
      "metadata": {
        "colab": {
          "base_uri": "https://localhost:8080/"
        },
        "id": "x2IDUyAf0CWo",
        "outputId": "590fa2b4-ed4e-4c39-ad96-95dd8a315b82"
      },
      "execution_count": 232,
      "outputs": [
        {
          "output_type": "stream",
          "name": "stdout",
          "text": [
            "torch.Size([4, 1, 5, 224, 224])\n"
          ]
        }
      ]
    },
    {
      "cell_type": "code",
      "source": [
        "class Conv3dPatchEmbed(nn.Module):\n",
        "    def __init__(self, in_chans=1, embed_dim=128,\n",
        "                 kernel_size=(5,4,4), stride=(5,4,4), pretrained_weights = None, pretrained_bias = None):\n",
        "        super().__init__()\n",
        "        self.proj = nn.Conv3d(in_chans, embed_dim,\n",
        "                              kernel_size=kernel_size,\n",
        "                              stride=stride)\n",
        "        # todo: add check for the dimensionality to match between pretrained_weights and these\n",
        "        nn.init.zeros_(self.proj.weight)\n",
        "        middle_layer = kernel_size[0] // 2\n",
        "        self.proj.weight.data[:, 0, middle_layer, :, :] = pretrained_weights[:, 0, :, :] + pretrained_weights[:, 1, :, :] + pretrained_weights[:, 2, :, :]\n",
        "\n",
        "        self.proj.bias.data = pretrained_bias.clone()\n",
        "\n",
        "\n",
        "    def forward(self, x):                     # x: [B,C,D,H,W]\n",
        "        x = self.proj(x)                      # [B,embed_dim,D',H',W']\n",
        "        # IMPORTANT: UPerNet/Swin is 2D downstream. Ensure D'==1, then squeeze.\n",
        "        if x.shape[2] != 1:\n",
        "            raise ValueError(f\"Depth after Conv3d must be 1 to squeeze, got {x.shape[2]}. \"\n",
        "                             \"Fix kernel/stride/padding or handle 3D downstream.\")\n",
        "        x = x[:, :, 0, :, :]                  # [B,embed_dim,H',W']\n",
        "        return x"
      ],
      "metadata": {
        "id": "OoenqpukDk7U"
      },
      "execution_count": 233,
      "outputs": []
    },
    {
      "cell_type": "code",
      "source": [
        "def make_patch_embeddings_3d(embeddings: nn.Module, conv3d_embedder: nn.Module):\n",
        "    # Create a weak reference (non-owning) to the parent embeddings object\n",
        "    # This avoids circular references and ensures `embeddings` is not kept alive\n",
        "    parent_ref = weakref.proxy(embeddings)\n",
        "\n",
        "    # Access the original patch embedding layer from the parent (e.g., SwinEmbeddings.patch_embeddings)\n",
        "    base = embeddings.patch_embeddings\n",
        "\n",
        "    # Extract the patch_size attribute if it exists, otherwise default to (4,4)\n",
        "    # Note: only primitives like tuples/ints are copied, not layers\n",
        "    patch_size = getattr(base, \"patch_size\", (4,4))\n",
        "\n",
        "    # Define a nested class to replace the original patch embedding with a 3D version\n",
        "    class PatchEmbeddings3D(nn.Module):\n",
        "        def __init__(self):\n",
        "            super().__init__()\n",
        "            # Register the custom 3D convolutional embedder (the actual learnable child module)\n",
        "            self.conv3d = conv3d_embedder\n",
        "\n",
        "            # Keep track of patch size as a primitive attribute (safe to copy)\n",
        "            self.patch_size = patch_size\n",
        "\n",
        "        def forward(self, pixel_values_5d: torch.Tensor):\n",
        "            # Enforce 5D input: [Batch, Channels, Depth, Height, Width]\n",
        "            if pixel_values_5d.ndim != 5:\n",
        "                raise ValueError(f\"Expected [B,C,D,H,W], got {tuple(pixel_values_5d.shape)}\")\n",
        "\n",
        "            # Apply the 3D convolution to produce embeddings\n",
        "            # Output shape will be [B, C, H', W'] (depth collapsed by conv stride/kernel)\n",
        "            x = self.conv3d(pixel_values_5d)\n",
        "            B, C, H, W = x.shape\n",
        "\n",
        "            # If the parent embeddings module has a normalization layer, apply it\n",
        "            # Hugging Face convention: flatten spatial dims, apply LN(C), then reshape\n",
        "            if getattr(parent_ref, \"norm\", None) is not None:\n",
        "                x_flat = x.flatten(2).transpose(1, 2)   # [B, H'*W', C]\n",
        "                x_flat = parent_ref.norm(x_flat)        # apply LayerNorm on channel dim\n",
        "                # Optionally could reshape back to [B, C, H', W'], but here kept flattened\n",
        "                x = x_flat\n",
        "\n",
        "            # Return embeddings and the resulting spatial resolution (H', W')\n",
        "            return x, (H, W)\n",
        "\n",
        "    # Instantiate and return the new PatchEmbeddings3D module\n",
        "    return PatchEmbeddings3D()\n"
      ],
      "metadata": {
        "id": "bYWr6stzDwS7"
      },
      "execution_count": 234,
      "outputs": []
    },
    {
      "cell_type": "code",
      "source": [
        "conv3d_embed = Conv3dPatchEmbed(\n",
        "    in_chans=1,\n",
        "    embed_dim=128,         # must match Swin config\n",
        "    kernel_size=(5,4,4),\n",
        "    stride=(5,4,4),\n",
        "    pretrained_weights=W2d,\n",
        "    pretrained_bias=b2d\n",
        ")"
      ],
      "metadata": {
        "id": "HdhnOPcyDy5k"
      },
      "execution_count": 235,
      "outputs": []
    },
    {
      "cell_type": "code",
      "source": [
        "# Replace the entire patch_embeddings module with the 3D-aware wrapper\n",
        "model.backbone.embeddings.patch_embeddings = make_patch_embeddings_3d(\n",
        "    model.backbone.embeddings,\n",
        "    conv3d_embed\n",
        ")"
      ],
      "metadata": {
        "id": "y7SRWah4D1Nw"
      },
      "execution_count": 236,
      "outputs": []
    },
    {
      "cell_type": "code",
      "source": [
        "model.backbone.embeddings"
      ],
      "metadata": {
        "colab": {
          "base_uri": "https://localhost:8080/"
        },
        "id": "jGA8Sl0Ygv0q",
        "outputId": "9172ec20-073e-4773-e78c-fba2b6286efa"
      },
      "execution_count": 237,
      "outputs": [
        {
          "output_type": "execute_result",
          "data": {
            "text/plain": [
              "SwinEmbeddings(\n",
              "  (patch_embeddings): PatchEmbeddings3D(\n",
              "    (conv3d): Conv3dPatchEmbed(\n",
              "      (proj): Conv3d(1, 128, kernel_size=(5, 4, 4), stride=(5, 4, 4))\n",
              "    )\n",
              "  )\n",
              "  (norm): LayerNorm((128,), eps=1e-05, elementwise_affine=True)\n",
              "  (dropout): Dropout(p=0.0, inplace=False)\n",
              ")"
            ]
          },
          "metadata": {},
          "execution_count": 237
        }
      ]
    },
    {
      "cell_type": "code",
      "source": [
        "# 4) Test\n",
        "x = torch.randn(2, 1, 5, 224, 224).to(device)  # [B,C,D,H,W]; D=5 fits kernel=(5,...) with stride=(5,...)\n",
        "model.to(device)\n",
        "tokens, (H, W) = model.backbone.embeddings.patch_embeddings(x)\n",
        "print(tokens.shape, (H, W))\n",
        "# Expected: tokens -> [B, embed_dim, H', W'], (H', W') consistent with stride"
      ],
      "metadata": {
        "colab": {
          "base_uri": "https://localhost:8080/"
        },
        "id": "GvrKgy4OD3ez",
        "outputId": "3d1a8036-3ba0-4a09-9440-bae1bc97d15c"
      },
      "execution_count": 238,
      "outputs": [
        {
          "output_type": "stream",
          "name": "stdout",
          "text": [
            "torch.Size([2, 3136, 128]) (56, 56)\n"
          ]
        }
      ]
    },
    {
      "cell_type": "code",
      "source": [
        "model.backbone.embeddings.patch_embeddings.conv3d.proj.weight[0]"
      ],
      "metadata": {
        "colab": {
          "base_uri": "https://localhost:8080/"
        },
        "id": "h2MjaJ7SO4s_",
        "outputId": "4c894e5b-fa9d-4e16-d3ec-5b776e716367"
      },
      "execution_count": 239,
      "outputs": [
        {
          "output_type": "execute_result",
          "data": {
            "text/plain": [
              "tensor([[[[ 0.0000,  0.0000,  0.0000,  0.0000],\n",
              "          [ 0.0000,  0.0000,  0.0000,  0.0000],\n",
              "          [ 0.0000,  0.0000,  0.0000,  0.0000],\n",
              "          [ 0.0000,  0.0000,  0.0000,  0.0000]],\n",
              "\n",
              "         [[ 0.0000,  0.0000,  0.0000,  0.0000],\n",
              "          [ 0.0000,  0.0000,  0.0000,  0.0000],\n",
              "          [ 0.0000,  0.0000,  0.0000,  0.0000],\n",
              "          [ 0.0000,  0.0000,  0.0000,  0.0000]],\n",
              "\n",
              "         [[ 0.0010,  0.0752, -0.1624, -0.2067],\n",
              "          [ 0.0497,  0.2111,  0.0617,  0.1348],\n",
              "          [-0.0512, -0.0140,  0.0711,  0.0239],\n",
              "          [-0.1518, -0.0956, -0.0805,  0.0813]],\n",
              "\n",
              "         [[ 0.0000,  0.0000,  0.0000,  0.0000],\n",
              "          [ 0.0000,  0.0000,  0.0000,  0.0000],\n",
              "          [ 0.0000,  0.0000,  0.0000,  0.0000],\n",
              "          [ 0.0000,  0.0000,  0.0000,  0.0000]],\n",
              "\n",
              "         [[ 0.0000,  0.0000,  0.0000,  0.0000],\n",
              "          [ 0.0000,  0.0000,  0.0000,  0.0000],\n",
              "          [ 0.0000,  0.0000,  0.0000,  0.0000],\n",
              "          [ 0.0000,  0.0000,  0.0000,  0.0000]]]], device='cuda:0',\n",
              "       grad_fn=<SelectBackward0>)"
            ]
          },
          "metadata": {},
          "execution_count": 239
        }
      ]
    },
    {
      "cell_type": "code",
      "source": [
        "x = torch.randn(2, 1, 5, 224, 224).to(device)  # [B,C,D,H,W]\n",
        "tokens, (H, W) = model.backbone.embeddings.patch_embeddings(x)\n",
        "normalized_tokens = model.backbone.embeddings.norm(tokens)\n",
        "dropout_tokens = model.backbone.embeddings.dropout(normalized_tokens)"
      ],
      "metadata": {
        "id": "EeUZ3hHwPSMZ"
      },
      "execution_count": 240,
      "outputs": []
    },
    {
      "cell_type": "code",
      "source": [
        "class SwinEmbeddings3D(nn.Module):\n",
        "    def __init__(self, patch_embeddings3d, embed_dim, p_drop=0.0):\n",
        "        super().__init__()\n",
        "        self.patch_embeddings = patch_embeddings3d     # your Conv3dPatchEmbed\n",
        "        self.norm = nn.LayerNorm(embed_dim)\n",
        "        self.dropout = nn.Dropout(p_drop)\n",
        "\n",
        "    def forward(self, x):                              # x: [B,C,D,H,W]\n",
        "        if x.ndim != 5:\n",
        "            raise ValueError(f\"Expected 5D, got {x.shape}\")\n",
        "        tokens, (H, W) = self.patch_embeddings(x)   # tokens: [B, N, C], N=D*H*W\n",
        "        tokens = self.norm(tokens)\n",
        "        tokens = self.dropout(tokens)\n",
        "        return tokens, (H, W)\n",
        "\n",
        "emb3d = SwinEmbeddings3D(\n",
        "    patch_embeddings3d=model.backbone.embeddings.patch_embeddings,  # your Conv3d block\n",
        "    embed_dim=128,\n",
        "    p_drop=0.0,\n",
        ")\n",
        "model.backbone.embeddings = emb3d"
      ],
      "metadata": {
        "id": "BLtKsnkbiY8q"
      },
      "execution_count": 241,
      "outputs": []
    },
    {
      "cell_type": "code",
      "source": [
        "model.backbone.embeddings"
      ],
      "metadata": {
        "colab": {
          "base_uri": "https://localhost:8080/"
        },
        "id": "LShr7xpJicgg",
        "outputId": "88b5386d-2a74-4b36-aff8-77fd15ba741a"
      },
      "execution_count": 242,
      "outputs": [
        {
          "output_type": "execute_result",
          "data": {
            "text/plain": [
              "SwinEmbeddings3D(\n",
              "  (patch_embeddings): PatchEmbeddings3D(\n",
              "    (conv3d): Conv3dPatchEmbed(\n",
              "      (proj): Conv3d(1, 128, kernel_size=(5, 4, 4), stride=(5, 4, 4))\n",
              "    )\n",
              "  )\n",
              "  (norm): LayerNorm((128,), eps=1e-05, elementwise_affine=True)\n",
              "  (dropout): Dropout(p=0.0, inplace=False)\n",
              ")"
            ]
          },
          "metadata": {},
          "execution_count": 242
        }
      ]
    },
    {
      "cell_type": "code",
      "source": [
        "x = torch.randn(2, 1, 5, 224, 224).to(device)  # [B,C,D,H,W]\n",
        "model.to(device)\n",
        "embedded = model.backbone.embeddings(x) # where embedded[0] is the actual embeddings, embedded[1] is (#patches_x, #patches_y)"
      ],
      "metadata": {
        "id": "4LYysD5EidaH"
      },
      "execution_count": 243,
      "outputs": []
    },
    {
      "cell_type": "code",
      "source": [
        "embedded[0].shape, embedded[1]"
      ],
      "metadata": {
        "colab": {
          "base_uri": "https://localhost:8080/"
        },
        "id": "y-WrBfyBj3-7",
        "outputId": "6cdc1ed1-9b9a-4329-91d1-d26c34ca689b"
      },
      "execution_count": 244,
      "outputs": [
        {
          "output_type": "execute_result",
          "data": {
            "text/plain": [
              "(torch.Size([2, 3136, 128]), (56, 56))"
            ]
          },
          "metadata": {},
          "execution_count": 244
        }
      ]
    },
    {
      "cell_type": "code",
      "source": [
        "x = torch.randn(1, 1, 5, 512, 512).to(device)  # [B,C,D,H,W]\n",
        "tokens, (H, W) = model.backbone.embeddings(x)  # embedding returns both"
      ],
      "metadata": {
        "id": "Gglf3-oTlX9h"
      },
      "execution_count": 245,
      "outputs": []
    },
    {
      "cell_type": "code",
      "source": [
        "tokens.shape"
      ],
      "metadata": {
        "colab": {
          "base_uri": "https://localhost:8080/"
        },
        "id": "uNl2sKUu0oui",
        "outputId": "3290c2c1-d260-453c-cc79-c99f42c413d8"
      },
      "execution_count": 246,
      "outputs": [
        {
          "output_type": "execute_result",
          "data": {
            "text/plain": [
              "torch.Size([1, 16384, 128])"
            ]
          },
          "metadata": {},
          "execution_count": 246
        }
      ]
    },
    {
      "cell_type": "code",
      "source": [
        "print(tokens.shape, H , W)"
      ],
      "metadata": {
        "colab": {
          "base_uri": "https://localhost:8080/"
        },
        "id": "aGB059nWffTq",
        "outputId": "0d71c910-d310-41bd-d4e8-7a1b131c5a64"
      },
      "execution_count": 44,
      "outputs": [
        {
          "output_type": "stream",
          "name": "stdout",
          "text": [
            "torch.Size([1, 16384, 128]) 128 128\n"
          ]
        }
      ]
    },
    {
      "cell_type": "code",
      "source": [
        "encoded = model.backbone.encoder(tokens, (H, W))"
      ],
      "metadata": {
        "id": "3rZT-Qad0oaw"
      },
      "execution_count": 247,
      "outputs": []
    },
    {
      "cell_type": "code",
      "source": [
        "bb_out = model.backbone(pixel_values=x)     # ← correct entry point\n",
        "feats = bb_out.feature_maps"
      ],
      "metadata": {
        "id": "eHRAtC357uhN"
      },
      "execution_count": 248,
      "outputs": []
    },
    {
      "cell_type": "code",
      "source": [
        "len(feats)"
      ],
      "metadata": {
        "colab": {
          "base_uri": "https://localhost:8080/"
        },
        "id": "B8_X7LAX8_qW",
        "outputId": "8eef8f35-d1d7-4f84-89a4-f83590b800d7"
      },
      "execution_count": 47,
      "outputs": [
        {
          "output_type": "execute_result",
          "data": {
            "text/plain": [
              "4"
            ]
          },
          "metadata": {},
          "execution_count": 47
        }
      ]
    },
    {
      "cell_type": "code",
      "source": [
        "model.decode_head"
      ],
      "metadata": {
        "colab": {
          "base_uri": "https://localhost:8080/"
        },
        "id": "xE7vyRwf-Kwl",
        "outputId": "e714ae5b-0abf-49b1-d6c9-f5efdb485e66"
      },
      "execution_count": 249,
      "outputs": [
        {
          "output_type": "execute_result",
          "data": {
            "text/plain": [
              "UperNetHead(\n",
              "  (classifier): Conv2d(512, 2, kernel_size=(1, 1), stride=(1, 1))\n",
              "  (psp_modules): UperNetPyramidPoolingModule(\n",
              "    (0): UperNetPyramidPoolingBlock(\n",
              "      (0): AdaptiveAvgPool2d(output_size=1)\n",
              "      (1): UperNetConvModule(\n",
              "        (conv): Conv2d(1024, 512, kernel_size=(1, 1), stride=(1, 1), bias=False)\n",
              "        (batch_norm): BatchNorm2d(512, eps=1e-05, momentum=0.1, affine=True, track_running_stats=True)\n",
              "        (activation): ReLU()\n",
              "      )\n",
              "    )\n",
              "    (1): UperNetPyramidPoolingBlock(\n",
              "      (0): AdaptiveAvgPool2d(output_size=2)\n",
              "      (1): UperNetConvModule(\n",
              "        (conv): Conv2d(1024, 512, kernel_size=(1, 1), stride=(1, 1), bias=False)\n",
              "        (batch_norm): BatchNorm2d(512, eps=1e-05, momentum=0.1, affine=True, track_running_stats=True)\n",
              "        (activation): ReLU()\n",
              "      )\n",
              "    )\n",
              "    (2): UperNetPyramidPoolingBlock(\n",
              "      (0): AdaptiveAvgPool2d(output_size=3)\n",
              "      (1): UperNetConvModule(\n",
              "        (conv): Conv2d(1024, 512, kernel_size=(1, 1), stride=(1, 1), bias=False)\n",
              "        (batch_norm): BatchNorm2d(512, eps=1e-05, momentum=0.1, affine=True, track_running_stats=True)\n",
              "        (activation): ReLU()\n",
              "      )\n",
              "    )\n",
              "    (3): UperNetPyramidPoolingBlock(\n",
              "      (0): AdaptiveAvgPool2d(output_size=6)\n",
              "      (1): UperNetConvModule(\n",
              "        (conv): Conv2d(1024, 512, kernel_size=(1, 1), stride=(1, 1), bias=False)\n",
              "        (batch_norm): BatchNorm2d(512, eps=1e-05, momentum=0.1, affine=True, track_running_stats=True)\n",
              "        (activation): ReLU()\n",
              "      )\n",
              "    )\n",
              "  )\n",
              "  (bottleneck): UperNetConvModule(\n",
              "    (conv): Conv2d(3072, 512, kernel_size=(3, 3), stride=(1, 1), padding=(1, 1), bias=False)\n",
              "    (batch_norm): BatchNorm2d(512, eps=1e-05, momentum=0.1, affine=True, track_running_stats=True)\n",
              "    (activation): ReLU()\n",
              "  )\n",
              "  (lateral_convs): ModuleList(\n",
              "    (0): UperNetConvModule(\n",
              "      (conv): Conv2d(128, 512, kernel_size=(1, 1), stride=(1, 1), bias=False)\n",
              "      (batch_norm): BatchNorm2d(512, eps=1e-05, momentum=0.1, affine=True, track_running_stats=True)\n",
              "      (activation): ReLU()\n",
              "    )\n",
              "    (1): UperNetConvModule(\n",
              "      (conv): Conv2d(256, 512, kernel_size=(1, 1), stride=(1, 1), bias=False)\n",
              "      (batch_norm): BatchNorm2d(512, eps=1e-05, momentum=0.1, affine=True, track_running_stats=True)\n",
              "      (activation): ReLU()\n",
              "    )\n",
              "    (2): UperNetConvModule(\n",
              "      (conv): Conv2d(512, 512, kernel_size=(1, 1), stride=(1, 1), bias=False)\n",
              "      (batch_norm): BatchNorm2d(512, eps=1e-05, momentum=0.1, affine=True, track_running_stats=True)\n",
              "      (activation): ReLU()\n",
              "    )\n",
              "  )\n",
              "  (fpn_convs): ModuleList(\n",
              "    (0-2): 3 x UperNetConvModule(\n",
              "      (conv): Conv2d(512, 512, kernel_size=(3, 3), stride=(1, 1), padding=(1, 1), bias=False)\n",
              "      (batch_norm): BatchNorm2d(512, eps=1e-05, momentum=0.1, affine=True, track_running_stats=True)\n",
              "      (activation): ReLU()\n",
              "    )\n",
              "  )\n",
              "  (fpn_bottleneck): UperNetConvModule(\n",
              "    (conv): Conv2d(2048, 512, kernel_size=(3, 3), stride=(1, 1), padding=(1, 1), bias=False)\n",
              "    (batch_norm): BatchNorm2d(512, eps=1e-05, momentum=0.1, affine=True, track_running_stats=True)\n",
              "    (activation): ReLU()\n",
              "  )\n",
              ")"
            ]
          },
          "metadata": {},
          "execution_count": 249
        }
      ]
    },
    {
      "cell_type": "code",
      "source": [
        "logits = model.decode_head(feats)\n",
        "print(logits.shape)\n",
        "logits = F.interpolate(logits, size=x.shape[-2:], mode=\"bilinear\", align_corners=False)\n",
        "print(logits.shape)"
      ],
      "metadata": {
        "id": "A5T-hz4T9AeY",
        "colab": {
          "base_uri": "https://localhost:8080/"
        },
        "outputId": "2de0107a-008f-4e0d-ec9c-7133e3d838ff"
      },
      "execution_count": 250,
      "outputs": [
        {
          "output_type": "stream",
          "name": "stdout",
          "text": [
            "torch.Size([1, 2, 128, 128])\n",
            "torch.Size([1, 2, 512, 512])\n"
          ]
        }
      ]
    },
    {
      "cell_type": "code",
      "source": [
        "model.auxiliary_head"
      ],
      "metadata": {
        "colab": {
          "base_uri": "https://localhost:8080/"
        },
        "id": "Tvvtc_Uz9Oxp",
        "outputId": "99429b32-72de-426e-a9d5-4e7d06f6bb64"
      },
      "execution_count": 251,
      "outputs": [
        {
          "output_type": "execute_result",
          "data": {
            "text/plain": [
              "UperNetFCNHead(\n",
              "  (convs): Sequential(\n",
              "    (0): UperNetConvModule(\n",
              "      (conv): Conv2d(512, 256, kernel_size=(3, 3), stride=(1, 1), padding=(1, 1), bias=False)\n",
              "      (batch_norm): BatchNorm2d(256, eps=1e-05, momentum=0.1, affine=True, track_running_stats=True)\n",
              "      (activation): ReLU()\n",
              "    )\n",
              "  )\n",
              "  (classifier): Conv2d(256, 150, kernel_size=(1, 1), stride=(1, 1))\n",
              ")"
            ]
          },
          "metadata": {},
          "execution_count": 251
        }
      ]
    },
    {
      "cell_type": "code",
      "source": [
        "logits_aux = model.auxiliary_head(feats)"
      ],
      "metadata": {
        "id": "FHkuTKSb9S-_"
      },
      "execution_count": 252,
      "outputs": []
    },
    {
      "cell_type": "code",
      "source": [
        "logits_aux.shape"
      ],
      "metadata": {
        "colab": {
          "base_uri": "https://localhost:8080/"
        },
        "id": "PUxADbZf_9k3",
        "outputId": "2f77f09f-9cad-47c8-8dd9-ed4d6650042c"
      },
      "execution_count": 253,
      "outputs": [
        {
          "output_type": "execute_result",
          "data": {
            "text/plain": [
              "torch.Size([1, 150, 32, 32])"
            ]
          },
          "metadata": {},
          "execution_count": 253
        }
      ]
    },
    {
      "cell_type": "code",
      "source": [
        "import os\n",
        "os.environ[\"MONAI_DATA_DIRECTORY\"] = \"./2d_dataset\"\n",
        "directory = os.environ.get(\"MONAI_DATA_DIRECTORY\")\n",
        "if directory is not None:\n",
        "    os.makedirs(directory, exist_ok=True)\n",
        "root_dir = tempfile.mkdtemp() if directory is None else directory\n",
        "resource = \"https://github.com/Project-MONAI/MONAI-extra-test-data/releases/download/0.8.1/MedNIST.tar.gz\"\n",
        "md5 = \"0bc7306e7427e00ad1c5526a6677552d\"\n",
        "\n",
        "compressed_file = os.path.join(root_dir, \"MedNIST.tar.gz\")\n",
        "data_dir = os.path.join(root_dir, \"MedNIST\")\n",
        "if not os.path.exists(data_dir):\n",
        "    download_and_extract(resource, compressed_file, root_dir, md5)"
      ],
      "metadata": {
        "id": "1fBzVOBA_-Yo",
        "colab": {
          "base_uri": "https://localhost:8080/"
        },
        "outputId": "5efdfc0c-4d98-42fc-ce2a-a4c9c60c1c34"
      },
      "execution_count": 60,
      "outputs": [
        {
          "output_type": "stream",
          "name": "stderr",
          "text": [
            "MedNIST.tar.gz: 59.0MB [00:00, 79.3MB/s]                            "
          ]
        },
        {
          "output_type": "stream",
          "name": "stdout",
          "text": [
            "2025-09-19 11:52:05,896 - INFO - Downloaded: 2d_dataset/MedNIST.tar.gz\n"
          ]
        },
        {
          "output_type": "stream",
          "name": "stderr",
          "text": [
            "\n"
          ]
        },
        {
          "output_type": "stream",
          "name": "stdout",
          "text": [
            "2025-09-19 11:52:06,015 - INFO - Verified 'MedNIST.tar.gz', md5: 0bc7306e7427e00ad1c5526a6677552d.\n",
            "2025-09-19 11:52:06,015 - INFO - Writing into directory: ./2d_dataset.\n"
          ]
        }
      ]
    },
    {
      "cell_type": "code",
      "source": [
        "set_determinism(seed = 0)"
      ],
      "metadata": {
        "id": "LbCyAbJqURF8"
      },
      "execution_count": 254,
      "outputs": []
    },
    {
      "cell_type": "code",
      "source": [
        "class_names = sorted(x for x in os.listdir(data_dir) if os.path.isdir(os.path.join(data_dir, x)))\n",
        "num_class = len(class_names)\n",
        "image_files = [\n",
        "    [os.path.join(data_dir, class_names[i], x) for x in os.listdir(os.path.join(data_dir, class_names[i]))]\n",
        "    for i in range(num_class)\n",
        "]\n",
        "num_each = [len(image_files[i]) for i in range(num_class)]\n",
        "image_files_list = []\n",
        "image_class = []\n",
        "for i in range(num_class):\n",
        "    image_files_list.extend(image_files[i])\n",
        "    image_class.extend([i] * num_each[i])\n",
        "num_total = len(image_class)\n",
        "image_width, image_height = PIL.Image.open(image_files_list[0]).size\n",
        "\n",
        "print(f\"Total image count: {num_total}\")\n",
        "print(f\"Image dimensions: {image_width} x {image_height}\")\n",
        "print(f\"Label names: {class_names}\")\n",
        "print(f\"Label counts: {num_each}\")"
      ],
      "metadata": {
        "colab": {
          "base_uri": "https://localhost:8080/"
        },
        "id": "oNTUkIehURss",
        "outputId": "b4fbe142-6657-4f53-df61-acdcf192a5c9"
      },
      "execution_count": 255,
      "outputs": [
        {
          "output_type": "stream",
          "name": "stdout",
          "text": [
            "Total image count: 58954\n",
            "Image dimensions: 64 x 64\n",
            "Label names: ['AbdomenCT', 'BreastMRI', 'CXR', 'ChestCT', 'Hand', 'HeadCT']\n",
            "Label counts: [10000, 8954, 10000, 10000, 10000, 10000]\n"
          ]
        }
      ]
    },
    {
      "cell_type": "code",
      "source": [
        "plt.subplots(3, 3, figsize=(8, 8))\n",
        "for i, k in enumerate(np.random.randint(num_total, size=9)):\n",
        "    im = PIL.Image.open(image_files_list[k])\n",
        "    arr = np.array(im)\n",
        "    plt.subplot(3, 3, i + 1)\n",
        "    plt.xlabel(class_names[image_class[k]])\n",
        "    plt.imshow(arr, cmap=\"gray\", vmin=0, vmax=255)\n",
        "plt.tight_layout()\n",
        "plt.show()"
      ],
      "metadata": {
        "colab": {
          "base_uri": "https://localhost:8080/",
          "height": 806
        },
        "id": "NDsgbcw4UTr4",
        "outputId": "2bbd621c-ba38-4c88-81f6-06304f55470d"
      },
      "execution_count": 256,
      "outputs": [
        {
          "output_type": "display_data",
          "data": {
            "text/plain": [
              "<Figure size 800x800 with 9 Axes>"
            ],
            "image/png": "[encoded data removed]"
          },
          "metadata": {}
        }
      ]
    },
    {
      "cell_type": "code",
      "source": [
        "len(image_files_list)"
      ],
      "metadata": {
        "colab": {
          "base_uri": "https://localhost:8080/"
        },
        "id": "v5Myr9ISW0Cg",
        "outputId": "5ccae2a6-165a-4823-fc66-82d138282dfd"
      },
      "execution_count": 257,
      "outputs": [
        {
          "output_type": "execute_result",
          "data": {
            "text/plain": [
              "58954"
            ]
          },
          "metadata": {},
          "execution_count": 257
        }
      ]
    },
    {
      "cell_type": "code",
      "source": [
        "reduced_list = image_files_list[:5]\n",
        "reduced_class = image_class[:5]"
      ],
      "metadata": {
        "id": "XK8F3nw_W4Xp"
      },
      "execution_count": 293,
      "outputs": []
    },
    {
      "cell_type": "code",
      "source": [
        "tensors = []\n",
        "for path in reduced_list:\n",
        "    img = Image.open(path).convert(\"L\")          # or \"RGB\" depending on data\n",
        "    arr = np.array(img, dtype=np.float32) / 255.0  # normalize to [0,1]\n",
        "    t = torch.from_numpy(arr).unsqueeze(0)       # [1,H,W]\n",
        "    t = t.repeat(3,1,1)                          # [3,H,W]\n",
        "    tensors.append(t)\n",
        "\n",
        "# stack into batch\n",
        "reduced_list = torch.stack(tensors)  # [B,3,H,W]\n"
      ],
      "metadata": {
        "id": "qsb7ijpTmtYC"
      },
      "execution_count": 294,
      "outputs": []
    },
    {
      "cell_type": "code",
      "source": [
        "reduced_list.shape"
      ],
      "metadata": {
        "colab": {
          "base_uri": "https://localhost:8080/"
        },
        "id": "831rnuspoKje",
        "outputId": "9f146e68-dbb9-4765-a31d-45ba3ae7e467"
      },
      "execution_count": 276,
      "outputs": [
        {
          "output_type": "execute_result",
          "data": {
            "text/plain": [
              "torch.Size([5, 3, 64, 64])"
            ]
          },
          "metadata": {},
          "execution_count": 276
        }
      ]
    },
    {
      "cell_type": "code",
      "source": [
        "class MedNISTDataset(torch.utils.data.Dataset):\n",
        "    def __init__(self, image_files, labels):\n",
        "        self.image_files = image_files\n",
        "        self.labels = labels\n",
        "\n",
        "    def __len__(self):\n",
        "        return len(self.image_files)\n",
        "\n",
        "    def __getitem__(self, index):\n",
        "        return self.image_files[index], self.labels[index]\n",
        "\n",
        "\n",
        "inference_ds = MedNISTDataset(reduced_list, reduced_class)\n",
        "inference_loader = DataLoader(inference_ds, batch_size=300, shuffle=True, num_workers=10)"
      ],
      "metadata": {
        "id": "dAnbuSVfWsa8"
      },
      "execution_count": 280,
      "outputs": []
    },
    {
      "cell_type": "markdown",
      "source": [
        "Il processo completo non funziona perchè, anche se non appare nella struttura, viene fatta un'interpolazione come ultimissimo passaggio per ritornare alla dimensionalità iniziale. Il problema è che se l'input sono 5 slice, e io ne predico una, allora sarà impossibile tornare in 3D"
      ],
      "metadata": {
        "id": "91TGMkAtArOk"
      }
    },
    {
      "cell_type": "code",
      "source": [
        "model.eval()\n",
        "y_true = []\n",
        "y_pred = []\n",
        "with torch.no_grad():\n",
        "    for test_data in inference_loader:\n",
        "        # test_data[0] = images\n",
        "        # test_data[1] = classes\n",
        "        images = test_data[0].to(device)\n",
        "        images = images.unsqueeze(1)\n",
        "        print(images.shape)\n",
        "        pred = model(images)\n"
      ],
      "metadata": {
        "colab": {
          "base_uri": "https://localhost:8080/"
        },
        "id": "Gm8CAwDqSEGy",
        "outputId": "5bbd5875-27b5-4a11-d9ed-6ebced9eaad4"
      },
      "execution_count": 281,
      "outputs": [
        {
          "output_type": "stream",
          "name": "stdout",
          "text": [
            "torch.Size([3, 1, 5, 64, 64])\n"
          ]
        }
      ]
    },
    {
      "cell_type": "code",
      "source": [
        "inputs = processor(images = reduced_list, return_tensors='pt').to(device)"
      ],
      "metadata": {
        "id": "O5TuPsYApsRv"
      },
      "execution_count": 296,
      "outputs": []
    },
    {
      "cell_type": "code",
      "source": [
        "inputs['pixel_values'].shape"
      ],
      "metadata": {
        "colab": {
          "base_uri": "https://localhost:8080/"
        },
        "id": "bgK0h9LSp4ig",
        "outputId": "a6789070-9654-494b-d273-6c98ef3e0b4b"
      },
      "execution_count": 298,
      "outputs": [
        {
          "output_type": "execute_result",
          "data": {
            "text/plain": [
              "torch.Size([5, 3, 512, 512])"
            ]
          },
          "metadata": {},
          "execution_count": 298
        }
      ]
    },
    {
      "cell_type": "code",
      "source": [
        "inputs['pixel_values'] = inputs['pixel_values'][:, 0, :, :].unsqueeze(1).permute(1,0,2,3)"
      ],
      "metadata": {
        "id": "JGjx_j2hU0hj"
      },
      "execution_count": 299,
      "outputs": []
    },
    {
      "cell_type": "code",
      "source": [
        "inputs['pixel_values'].shape"
      ],
      "metadata": {
        "colab": {
          "base_uri": "https://localhost:8080/"
        },
        "id": "WQaZ5XAG5_Le",
        "outputId": "b1de0234-09ca-499a-eaa0-ef636973853c"
      },
      "execution_count": 300,
      "outputs": [
        {
          "output_type": "execute_result",
          "data": {
            "text/plain": [
              "torch.Size([1, 5, 512, 512])"
            ]
          },
          "metadata": {},
          "execution_count": 300
        }
      ]
    },
    {
      "cell_type": "code",
      "source": [
        "inputs['pixel_values'] = inputs['pixel_values'].unsqueeze(1)"
      ],
      "metadata": {
        "id": "kVaXya95U8jG"
      },
      "execution_count": 302,
      "outputs": []
    },
    {
      "cell_type": "code",
      "source": [
        "inputs['pixel_values'].shape"
      ],
      "metadata": {
        "colab": {
          "base_uri": "https://localhost:8080/"
        },
        "id": "WR1vbSKz6Ci1",
        "outputId": "0eb57e5d-6ec6-49dc-ac8e-82d39c42e3c6"
      },
      "execution_count": 303,
      "outputs": [
        {
          "output_type": "execute_result",
          "data": {
            "text/plain": [
              "torch.Size([1, 1, 5, 512, 512])"
            ]
          },
          "metadata": {},
          "execution_count": 303
        }
      ]
    },
    {
      "cell_type": "code",
      "source": [
        "#1, 1, 5, 512, 512"
      ],
      "metadata": {
        "id": "yYz2qoG5UJR4"
      },
      "execution_count": 120,
      "outputs": []
    },
    {
      "cell_type": "code",
      "source": [
        "bb_out = model.backbone(pixel_values=inputs['pixel_values'])     # ← correct entry point\n",
        "feats = bb_out.feature_maps"
      ],
      "metadata": {
        "id": "-e4gkIy6XLL8"
      },
      "execution_count": 305,
      "outputs": []
    },
    {
      "cell_type": "code",
      "source": [
        "logits = model.decode_head(feats)\n",
        "logits = F.interpolate(logits, size=x.shape[-2:], mode=\"bilinear\", align_corners=False)"
      ],
      "metadata": {
        "id": "duTRnRlYXdcu"
      },
      "execution_count": 306,
      "outputs": []
    },
    {
      "cell_type": "code",
      "source": [
        "logits.cpu()"
      ],
      "metadata": {
        "colab": {
          "base_uri": "https://localhost:8080/"
        },
        "id": "DN6XpIpZX-kL",
        "outputId": "1fcf5629-b48b-4625-e313-c3b81c94759d"
      },
      "execution_count": 307,
      "outputs": [
        {
          "output_type": "execute_result",
          "data": {
            "text/plain": [
              "tensor([[[[0.3675, 0.3675, 0.3781,  ..., 0.4746, 0.4791, 0.4791],\n",
              "          [0.3675, 0.3675, 0.3781,  ..., 0.4746, 0.4791, 0.4791],\n",
              "          [0.3776, 0.3776, 0.3877,  ..., 0.4899, 0.4949, 0.4949],\n",
              "          ...,\n",
              "          [0.4271, 0.4271, 0.4233,  ..., 0.5083, 0.5188, 0.5188],\n",
              "          [0.4259, 0.4259, 0.4229,  ..., 0.5106, 0.5195, 0.5195],\n",
              "          [0.4259, 0.4259, 0.4229,  ..., 0.5106, 0.5195, 0.5195]],\n",
              "\n",
              "         [[0.6137, 0.6137, 0.5958,  ..., 1.0623, 1.1045, 1.1045],\n",
              "          [0.6137, 0.6137, 0.5958,  ..., 1.0623, 1.1045, 1.1045],\n",
              "          [0.5812, 0.5812, 0.5630,  ..., 1.0155, 1.0568, 1.0568],\n",
              "          ...,\n",
              "          [0.8240, 0.8240, 0.7818,  ..., 0.8079, 0.8394, 0.8394],\n",
              "          [0.8587, 0.8587, 0.8141,  ..., 0.8373, 0.8692, 0.8692],\n",
              "          [0.8587, 0.8587, 0.8141,  ..., 0.8373, 0.8692, 0.8692]]]],\n",
              "       grad_fn=<ToCopyBackward0>)"
            ]
          },
          "metadata": {},
          "execution_count": 307
        }
      ]
    },
    {
      "cell_type": "code",
      "source": [
        "logits[0].shape"
      ],
      "metadata": {
        "colab": {
          "base_uri": "https://localhost:8080/"
        },
        "id": "sKr-KZMyYAl3",
        "outputId": "a9ed14c6-ca92-4301-f1d8-80757202905d"
      },
      "execution_count": 308,
      "outputs": [
        {
          "output_type": "execute_result",
          "data": {
            "text/plain": [
              "torch.Size([2, 512, 512])"
            ]
          },
          "metadata": {},
          "execution_count": 308
        }
      ]
    },
    {
      "cell_type": "code",
      "source": [
        "logits[0].cpu();"
      ],
      "metadata": {
        "id": "8QwE5-046I4B"
      },
      "execution_count": 310,
      "outputs": []
    },
    {
      "cell_type": "code",
      "source": [
        "plt.imshow(np.array(logits[0, 0, :, :].detach().cpu()), cmap=\"gray\")\n",
        "plt.title(\"Dummy 2D slice\")\n",
        "plt.axis(\"off\")\n",
        "plt.show()"
      ],
      "metadata": {
        "colab": {
          "base_uri": "https://localhost:8080/",
          "height": 428
        },
        "id": "x_MqWz2TX5rr",
        "outputId": "7199c100-8fe6-48fb-a535-b2ea2c7f9b3c"
      },
      "execution_count": 311,
      "outputs": [
        {
          "output_type": "display_data",
          "data": {
            "text/plain": [
              "<Figure size 640x480 with 1 Axes>"
            ],
            "image/png": "[encoded data removed]"
          },
          "metadata": {}
        }
      ]
    },
    {
      "cell_type": "markdown",
      "source": [
        "### Normalization"
      ],
      "metadata": {
        "id": "t3OEgqwv_dHc"
      }
    },
    {
      "cell_type": "code",
      "source": [
        "\"\"\"\n",
        "Windowed 3D preprocessing exactly like the paper:\n",
        "- Build K-slice windows (e.g., K=5) along depth\n",
        "- Apply ONE set of spatial augments jointly to all K slices\n",
        "- CT normalization: clip [-175,250] -> scale to [-1,1]\n",
        "- Return tensors shaped [B, 1, K, 512, 512] (B handled by DataLoader)\n",
        "- Target is the CENTER slice mask only\n",
        "\"\"\"\n",
        "\n",
        "from typing import List, Tuple, Optional\n",
        "import numpy as np\n",
        "import torch\n",
        "import torch.nn.functional as F\n",
        "from torch.utils.data import Dataset, DataLoader\n",
        "import torchvision.transforms.functional as TF\n",
        "import random\n",
        "\n",
        "# -----------------------\n",
        "# Utility: normalization\n",
        "# -----------------------\n",
        "def normalize_ct_window(x: torch.Tensor, clip_min=-175.0, clip_max=250.0) -> torch.Tensor:\n",
        "    \"\"\"\n",
        "    x: float tensor [K,H,W] (values in HU)\n",
        "    -> clip to [clip_min, clip_max], map to [-1,1]\n",
        "    \"\"\"\n",
        "    x = x.clamp_(clip_min, clip_max)\n",
        "    x = (x - clip_min) / (clip_max - clip_min)  # [0,1]\n",
        "    x = x * 2.0 - 1.0                           # [-1,1]\n",
        "    return x\n",
        "\n",
        "def normalize_mri_window(x: torch.Tensor) -> torch.Tensor:\n",
        "    \"\"\"\n",
        "    x: float tensor [K,H,W] (non-negative)\n",
        "    -> map [0, max] to [-1,1]\n",
        "    \"\"\"\n",
        "    maxval = x.max().clamp(min=1e-6)\n",
        "    x = x / maxval * 2.0 - 1.0\n",
        "    return x\n",
        "\n",
        "# -----------------------\n",
        "# Utility: spatial ops (shared params for all K slices + center mask)\n",
        "# -----------------------\n",
        "def random_zoom_crop_pad(\n",
        "    imgK: torch.Tensor,         # [K,H,W], float\n",
        "    msk: Optional[torch.Tensor],# [H,W], long (center slice) or None\n",
        "    out_hw=(512, 512),\n",
        "    zoom_range=(0.5, 2.0),\n",
        "    p_apply=1.0,\n",
        "    rng: Optional[random.Random] = None,\n",
        "):\n",
        "    \"\"\"\n",
        "    - Sample zoom z in [0.5,2.0]\n",
        "    - Resize to (round(H*z), round(W*z))\n",
        "    - If larger than out_hw -> random crop to out_hw\n",
        "      If smaller -> pad to out_hw (zeros for image, 0 for mask)\n",
        "    Returns imgK', msk'\n",
        "    \"\"\"\n",
        "    if rng is None:\n",
        "        rng = random\n",
        "\n",
        "    H, W = imgK.shape[-2:]\n",
        "    if rng.random() > p_apply:\n",
        "        # Only resize to out size (deterministic path)\n",
        "        imgK = TF.resize(imgK, out_hw, interpolation=TF.InterpolationMode.BILINEAR, antialias=True)\n",
        "        if msk is not None:\n",
        "            msk = TF.resize(msk.unsqueeze(0).float(), out_hw, interpolation=TF.InterpolationMode.NEAREST).squeeze(0).long()\n",
        "        return imgK, msk\n",
        "\n",
        "    z = rng.uniform(*zoom_range)\n",
        "    newH, newW = max(1, int(round(H * z))), max(1, int(round(W * z)))\n",
        "    # Resize images (bilinear) and mask (nearest)\n",
        "    imgK = TF.resize(imgK, (newH, newW), interpolation=TF.InterpolationMode.BILINEAR, antialias=True)\n",
        "    if msk is not None:\n",
        "        msk = TF.resize(msk.unsqueeze(0).float(), (newH, newW), interpolation=TF.InterpolationMode.NEAREST).squeeze(0).long()\n",
        "\n",
        "    outH, outW = out_hw\n",
        "    if newH >= outH and newW >= outW:\n",
        "        # Random crop\n",
        "        i = rng.randint(0, newH - outH)\n",
        "        j = rng.randint(0, newW - outW)\n",
        "        imgK = imgK[:, i:i+outH, j:j+outW]\n",
        "        if msk is not None:\n",
        "            msk = msk[i:i+outH, j:j+outW]\n",
        "    else:\n",
        "        # Pad to out size\n",
        "        pad_top = (outH - newH) // 2 if newH < outH else 0\n",
        "        pad_bottom = outH - newH - pad_top if newH < outH else 0\n",
        "        pad_left = (outW - newW) // 2 if newW < outW else 0\n",
        "        pad_right = outW - newW - pad_left if newW < outW else 0\n",
        "        # Pad order for F.pad is (left, right, top, bottom)\n",
        "        imgK = F.pad(imgK, (pad_left, pad_right, pad_top, pad_bottom), mode=\"constant\", value=0.0)\n",
        "        if msk is not None:\n",
        "            msk = F.pad(msk, (pad_left, pad_right, pad_top, pad_bottom), mode=\"constant\", value=0)\n",
        "\n",
        "    return imgK, msk\n",
        "\n",
        "def random_flip_rotate(\n",
        "    imgK: torch.Tensor,          # [K,H,W]\n",
        "    msk: Optional[torch.Tensor], # [H,W]\n",
        "    p_flip=0.1,\n",
        "    p_rot=0.1,\n",
        "    max_degrees=10.0,\n",
        "    rng: Optional[random.Random] = None,\n",
        "):\n",
        "    if rng is None:\n",
        "        rng = random\n",
        "\n",
        "    # Horizontal flip\n",
        "    if rng.random() < p_flip:\n",
        "        imgK = TF.hflip(imgK)\n",
        "        if msk is not None:\n",
        "            msk = TF.hflip(msk)\n",
        "\n",
        "    # Vertical flip\n",
        "    if rng.random() < p_flip:\n",
        "        imgK = TF.vflip(imgK)\n",
        "        if msk is not None:\n",
        "            msk = TF.vflip(msk)\n",
        "\n",
        "    # Small rotation\n",
        "    if rng.random() < p_rot:\n",
        "        angle = rng.uniform(-max_degrees, max_degrees)\n",
        "        imgK = TF.rotate(imgK, angle=angle, interpolation=TF.InterpolationMode.BILINEAR, fill=0.0)\n",
        "        if msk is not None:\n",
        "            msk = TF.rotate(msk, angle=angle, interpolation=TF.InterpolationMode.NEAREST, fill=0)\n",
        "\n",
        "    return imgK, msk\n",
        "\n",
        "def random_intensity_shift(\n",
        "    imgK: torch.Tensor,  # [K,H,W], in [-1,1]\n",
        "    p=0.5,\n",
        "    magnitude=0.1,\n",
        "    rng: Optional[random.Random] = None,\n",
        "):\n",
        "    if rng is None:\n",
        "        rng = random\n",
        "    if rng.random() < p:\n",
        "        delta = rng.uniform(-magnitude, magnitude)\n",
        "        imgK = (imgK + delta).clamp_(-1.0, 1.0)\n",
        "    return imgK\n",
        "\n",
        "# -----------------------\n",
        "# Dataset\n",
        "# -----------------------\n",
        "class Windowed3DSegDataset(Dataset):\n",
        "    \"\"\"\n",
        "    volumes[i] : numpy array [D,H,W], floats (CT HU or MRI intensity)\n",
        "    masks[i]   : numpy array [D,H,W], ints in {0..C-1} (center-slice target)\n",
        "    Returns:\n",
        "      image: torch.FloatTensor [1, K, 512, 512]\n",
        "      mask:  torch.LongTensor  [512, 512]  (center slice)\n",
        "    \"\"\"\n",
        "    def __init__(\n",
        "        self,\n",
        "        volumes: List[np.ndarray],\n",
        "        masks:   List[np.ndarray],\n",
        "        modality: str = \"CT\",       # \"CT\" or \"MRI\"\n",
        "        K: int = 5,\n",
        "        stride: int = 1,\n",
        "        out_hw: Tuple[int,int] = (512,512),\n",
        "        augment: bool = True,\n",
        "        seed: Optional[int] = None,\n",
        "    ):\n",
        "        assert len(volumes) == len(masks)\n",
        "        assert K % 2 == 1, \"K must be odd (so there is a center slice).\"\n",
        "        self.vols  = volumes\n",
        "        self.masks = masks\n",
        "        self.modality = modality.upper()\n",
        "        self.K = K\n",
        "        self.halfK = K // 2\n",
        "        self.stride = stride\n",
        "        self.out_hw = out_hw\n",
        "        self.augment = augment\n",
        "        self.rng = random.Random(seed) if seed is not None else random\n",
        "\n",
        "        # Precompute (volume_index, center_index) pairs\n",
        "        self.index = []\n",
        "        for vi, vol in enumerate(self.vols):\n",
        "            D = vol.shape[0]\n",
        "            # centers from halfK .. D-1-halfK inclusive\n",
        "            centers = range(self.halfK, D - self.halfK, self.stride)\n",
        "            for c in centers:\n",
        "                self.index.append((vi, c))\n",
        "\n",
        "    def __len__(self):\n",
        "        return len(self.index)\n",
        "\n",
        "    def __getitem__(self, idx):\n",
        "        vi, c = self.index[idx]\n",
        "        vol = self.vols[vi]   # [D,H,W], np\n",
        "        msk = self.masks[vi]  # [D,H,W], np\n",
        "\n",
        "        # Extract K-slice window centered at c\n",
        "        win = vol[c - self.halfK : c + self.halfK + 1]     # [K,H,W]\n",
        "        cen = msk[c]                                       # [H,W]\n",
        "\n",
        "        # To torch\n",
        "        win_t = torch.from_numpy(win).float()              # [K,H,W]\n",
        "        cen_t = torch.from_numpy(cen).long()               # [H,W]\n",
        "\n",
        "        # Shared spatial transforms\n",
        "        if self.augment:\n",
        "            win_t, cen_t = random_zoom_crop_pad(win_t, cen_t, out_hw=self.out_hw, rng=self.rng)\n",
        "            win_t, cen_t = random_flip_rotate(win_t, cen_t, rng=self.rng)\n",
        "        else:\n",
        "            # Deterministic resize only\n",
        "            win_t = TF.resize(win_t, self.out_hw, interpolation=TF.InterpolationMode.BILINEAR, antialias=True)\n",
        "            cen_t = TF.resize(cen_t.unsqueeze(0).float(), self.out_hw, interpolation=TF.InterpolationMode.NEAREST).squeeze(0).long()\n",
        "\n",
        "        # Intensity normalization\n",
        "        if self.modality == \"CT\":\n",
        "            win_t = normalize_ct_window(win_t)\n",
        "        else:\n",
        "            win_t = normalize_mri_window(win_t)\n",
        "\n",
        "        # Optional intensity jitter\n",
        "        if self.augment:\n",
        "            win_t = random_intensity_shift(win_t, rng=self.rng)\n",
        "\n",
        "        # Stack to [1,K,H,W] for 3D patch-embed\n",
        "        win_t = win_t.unsqueeze(0)  # [1,K,H,W] (C=1)\n",
        "\n",
        "        return {\n",
        "            \"image\": win_t,          # float32, [-1,1]\n",
        "            \"mask\":  cen_t,          # long, center slice labels\n",
        "            \"center_idx\": c,\n",
        "            \"volume_idx\": vi,\n",
        "        }\n",
        "\n",
        "# -----------------------\n",
        "# Example usage\n",
        "# -----------------------\n",
        "if __name__ == \"__main__\":\n",
        "    # Dummy demo data (replace with real volumes/masks)\n",
        "    # Suppose each volume is [D=60, H=400, W=400]\n",
        "    N = 3\n",
        "    vols = [np.random.normal(0, 300, size=(60, 400, 400)).astype(np.float32) for _ in range(N)]  # pretend CT HU\n",
        "    msks = [np.random.randint(0, 4, size=(60, 400, 400), dtype=np.int16) for _ in range(N)]      # 4 classes\n",
        "\n",
        "    ds = Windowed3DSegDataset(\n",
        "        volumes=vols,\n",
        "        masks=msks,\n",
        "        modality=\"CT\",\n",
        "        K=5,\n",
        "        stride=1,\n",
        "        out_hw=(512, 512),\n",
        "        augment=True,\n",
        "        seed=1337,\n",
        "    )\n",
        "\n",
        "    dl = DataLoader(ds, batch_size=2, shuffle=True, num_workers=0)\n",
        "\n",
        "    batch = next(iter(dl))\n",
        "    x = batch[\"image\"]  # [B, 1, K, 512, 512]\n",
        "    y = batch[\"mask\"]   # [B, 512, 512]\n",
        "\n",
        "    print(\"image:\", x.shape, x.dtype, x.min().item(), x.max().item())\n",
        "    print(\"mask: \", y.shape, y.dtype, y.min().item(), y.max().item())\n",
        "\n",
        "    # >>> image: torch.Size([2, 1, 5, 512, 512]) torch.float32 -1.0 1.0\n",
        "    # >>> mask:  torch.Size([2, 512, 512]) torch.int64 0 3\n"
      ],
      "metadata": {
        "id": "SdlyHROJ_fUK",
        "colab": {
          "base_uri": "https://localhost:8080/"
        },
        "outputId": "fc0fa6dc-b608-44c3-991f-7610f397f651"
      },
      "execution_count": 316,
      "outputs": [
        {
          "output_type": "stream",
          "name": "stdout",
          "text": [
            "image: torch.Size([2, 1, 5, 512, 512]) torch.float32 -1.0 1.0\n",
            "mask:  torch.Size([2, 512, 512]) torch.int64 0 3\n"
          ]
        }
      ]
    },
    {
      "cell_type": "markdown",
      "source": [
        "###BEiT"
      ],
      "metadata": {
        "id": "ok12yLV-s9Du"
      }
    },
    {
      "cell_type": "code",
      "source": [
        "from transformers import BeitModel, SwinModel, AutoModel"
      ],
      "metadata": {
        "id": "y6JDkOo9vCBP"
      },
      "execution_count": 317,
      "outputs": []
    },
    {
      "cell_type": "code",
      "source": [
        "enc = BeitModel.from_pretrained(\"microsoft/beit-base-patch16-224-pt22k-ft22k\")\n",
        "# BEiT encoder's weights from ImageNet-22k"
      ],
      "metadata": {
        "colab": {
          "base_uri": "https://localhost:8080/",
          "height": 81,
          "referenced_widgets": [
            "b722f54e151a46ba84bb940bdc5ee906",
            "69a2f32e8217479086852caebd45832d",
            "645e6e5f80044ab29a1dc8e5e7178f97",
            "cece7e49aeb049a0ad83fdc04e20ca43",
            "040ccd7558814bd083976baf7bb4682e",
            "70711cbfefc94d7cb5ec3de49500fe25",
            "6dadfa5096bf4a58ae5aaad4e279865b",
            "20f5a85dbbe64aaeac950a86d658721c",
            "87bc3e848700473f904922f1e5378a03",
            "b497dfcd292a4f219dcb94e13b19de7c",
            "36aade5c44f843f3874a55859727c86a",
            "92acfe0b29ee4b359d15cb46de3c8de5",
            "2a016d51cd1748158215d6b2cb8ea07c",
            "c75cc5df707542838099e63c951455a3",
            "f2869d7ecbaa455281597a6ac61dd23a",
            "146b1638ff2143fcb044aa2badcadb09",
            "e09fecd4e2694488be3b5a923519c09e",
            "f58d335148ae497a8dff728e39b2cd6a",
            "1692729529894e3aa6cd65c08866466d",
            "ab65b5156e6a4c12b1c1895abe95ccf9",
            "36022fc5b0d64ac48102706836f938bc",
            "1683fa0d0f6b473d89e666e64fb0ef3f"
          ]
        },
        "id": "0j2pgbwioxFn",
        "outputId": "6345483f-216d-4717-92e6-58653fe96410"
      },
      "execution_count": null,
      "outputs": [
        {
          "output_type": "display_data",
          "data": {
            "text/plain": [
              "config.json: 0.00B [00:00, ?B/s]"
            ],
            "application/vnd.jupyter.widget-view+json": {
              "version_major": 2,
              "version_minor": 0,
              "model_id": "b722f54e151a46ba84bb940bdc5ee906"
            }
          },
          "metadata": {}
        },
        {
          "output_type": "display_data",
          "data": {
            "text/plain": [
              "pytorch_model.bin:   0%|          | 0.00/414M [00:00<?, ?B/s]"
            ],
            "application/vnd.jupyter.widget-view+json": {
              "version_major": 2,
              "version_minor": 0,
              "model_id": "92acfe0b29ee4b359d15cb46de3c8de5"
            }
          },
          "metadata": {}
        }
      ]
    },
    {
      "cell_type": "code",
      "source": [
        "enc"
      ],
      "metadata": {
        "colab": {
          "base_uri": "https://localhost:8080/"
        },
        "id": "4_Bhb-vNvsNo",
        "outputId": "9e4c4b33-aa81-4596-dbb8-5214aa41e9a8"
      },
      "execution_count": null,
      "outputs": [
        {
          "output_type": "execute_result",
          "data": {
            "text/plain": [
              "BeitModel(\n",
              "  (embeddings): BeitEmbeddings(\n",
              "    (patch_embeddings): BeitPatchEmbeddings(\n",
              "      (projection): Conv2d(3, 768, kernel_size=(16, 16), stride=(16, 16))\n",
              "    )\n",
              "    (dropout): Dropout(p=0.0, inplace=False)\n",
              "  )\n",
              "  (encoder): BeitEncoder(\n",
              "    (layer): ModuleList(\n",
              "      (0): BeitLayer(\n",
              "        (attention): BeitAttention(\n",
              "          (attention): BeitSdpaSelfAttention(\n",
              "            (query): Linear(in_features=768, out_features=768, bias=True)\n",
              "            (key): Linear(in_features=768, out_features=768, bias=False)\n",
              "            (value): Linear(in_features=768, out_features=768, bias=True)\n",
              "            (dropout): Dropout(p=0.0, inplace=False)\n",
              "            (relative_position_bias): BeitRelativePositionBias()\n",
              "          )\n",
              "          (output): BeitSelfOutput(\n",
              "            (dense): Linear(in_features=768, out_features=768, bias=True)\n",
              "            (dropout): Dropout(p=0.0, inplace=False)\n",
              "          )\n",
              "        )\n",
              "        (intermediate): BeitIntermediate(\n",
              "          (dense): Linear(in_features=768, out_features=3072, bias=True)\n",
              "          (intermediate_act_fn): GELUActivation()\n",
              "        )\n",
              "        (output): BeitOutput(\n",
              "          (dense): Linear(in_features=3072, out_features=768, bias=True)\n",
              "          (dropout): Dropout(p=0.0, inplace=False)\n",
              "        )\n",
              "        (layernorm_before): LayerNorm((768,), eps=1e-12, elementwise_affine=True)\n",
              "        (drop_path): Identity()\n",
              "        (layernorm_after): LayerNorm((768,), eps=1e-12, elementwise_affine=True)\n",
              "      )\n",
              "      (1): BeitLayer(\n",
              "        (attention): BeitAttention(\n",
              "          (attention): BeitSdpaSelfAttention(\n",
              "            (query): Linear(in_features=768, out_features=768, bias=True)\n",
              "            (key): Linear(in_features=768, out_features=768, bias=False)\n",
              "            (value): Linear(in_features=768, out_features=768, bias=True)\n",
              "            (dropout): Dropout(p=0.0, inplace=False)\n",
              "            (relative_position_bias): BeitRelativePositionBias()\n",
              "          )\n",
              "          (output): BeitSelfOutput(\n",
              "            (dense): Linear(in_features=768, out_features=768, bias=True)\n",
              "            (dropout): Dropout(p=0.0, inplace=False)\n",
              "          )\n",
              "        )\n",
              "        (intermediate): BeitIntermediate(\n",
              "          (dense): Linear(in_features=768, out_features=3072, bias=True)\n",
              "          (intermediate_act_fn): GELUActivation()\n",
              "        )\n",
              "        (output): BeitOutput(\n",
              "          (dense): Linear(in_features=3072, out_features=768, bias=True)\n",
              "          (dropout): Dropout(p=0.0, inplace=False)\n",
              "        )\n",
              "        (layernorm_before): LayerNorm((768,), eps=1e-12, elementwise_affine=True)\n",
              "        (drop_path): BeitDropPath(p=0.00909090880304575)\n",
              "        (layernorm_after): LayerNorm((768,), eps=1e-12, elementwise_affine=True)\n",
              "      )\n",
              "      (2): BeitLayer(\n",
              "        (attention): BeitAttention(\n",
              "          (attention): BeitSdpaSelfAttention(\n",
              "            (query): Linear(in_features=768, out_features=768, bias=True)\n",
              "            (key): Linear(in_features=768, out_features=768, bias=False)\n",
              "            (value): Linear(in_features=768, out_features=768, bias=True)\n",
              "            (dropout): Dropout(p=0.0, inplace=False)\n",
              "            (relative_position_bias): BeitRelativePositionBias()\n",
              "          )\n",
              "          (output): BeitSelfOutput(\n",
              "            (dense): Linear(in_features=768, out_features=768, bias=True)\n",
              "            (dropout): Dropout(p=0.0, inplace=False)\n",
              "          )\n",
              "        )\n",
              "        (intermediate): BeitIntermediate(\n",
              "          (dense): Linear(in_features=768, out_features=3072, bias=True)\n",
              "          (intermediate_act_fn): GELUActivation()\n",
              "        )\n",
              "        (output): BeitOutput(\n",
              "          (dense): Linear(in_features=3072, out_features=768, bias=True)\n",
              "          (dropout): Dropout(p=0.0, inplace=False)\n",
              "        )\n",
              "        (layernorm_before): LayerNorm((768,), eps=1e-12, elementwise_affine=True)\n",
              "        (drop_path): BeitDropPath(p=0.0181818176060915)\n",
              "        (layernorm_after): LayerNorm((768,), eps=1e-12, elementwise_affine=True)\n",
              "      )\n",
              "      (3): BeitLayer(\n",
              "        (attention): BeitAttention(\n",
              "          (attention): BeitSdpaSelfAttention(\n",
              "            (query): Linear(in_features=768, out_features=768, bias=True)\n",
              "            (key): Linear(in_features=768, out_features=768, bias=False)\n",
              "            (value): Linear(in_features=768, out_features=768, bias=True)\n",
              "            (dropout): Dropout(p=0.0, inplace=False)\n",
              "            (relative_position_bias): BeitRelativePositionBias()\n",
              "          )\n",
              "          (output): BeitSelfOutput(\n",
              "            (dense): Linear(in_features=768, out_features=768, bias=True)\n",
              "            (dropout): Dropout(p=0.0, inplace=False)\n",
              "          )\n",
              "        )\n",
              "        (intermediate): BeitIntermediate(\n",
              "          (dense): Linear(in_features=768, out_features=3072, bias=True)\n",
              "          (intermediate_act_fn): GELUActivation()\n",
              "        )\n",
              "        (output): BeitOutput(\n",
              "          (dense): Linear(in_features=3072, out_features=768, bias=True)\n",
              "          (dropout): Dropout(p=0.0, inplace=False)\n",
              "        )\n",
              "        (layernorm_before): LayerNorm((768,), eps=1e-12, elementwise_affine=True)\n",
              "        (drop_path): BeitDropPath(p=0.027272727340459824)\n",
              "        (layernorm_after): LayerNorm((768,), eps=1e-12, elementwise_affine=True)\n",
              "      )\n",
              "      (4): BeitLayer(\n",
              "        (attention): BeitAttention(\n",
              "          (attention): BeitSdpaSelfAttention(\n",
              "            (query): Linear(in_features=768, out_features=768, bias=True)\n",
              "            (key): Linear(in_features=768, out_features=768, bias=False)\n",
              "            (value): Linear(in_features=768, out_features=768, bias=True)\n",
              "            (dropout): Dropout(p=0.0, inplace=False)\n",
              "            (relative_position_bias): BeitRelativePositionBias()\n",
              "          )\n",
              "          (output): BeitSelfOutput(\n",
              "            (dense): Linear(in_features=768, out_features=768, bias=True)\n",
              "            (dropout): Dropout(p=0.0, inplace=False)\n",
              "          )\n",
              "        )\n",
              "        (intermediate): BeitIntermediate(\n",
              "          (dense): Linear(in_features=768, out_features=3072, bias=True)\n",
              "          (intermediate_act_fn): GELUActivation()\n",
              "        )\n",
              "        (output): BeitOutput(\n",
              "          (dense): Linear(in_features=3072, out_features=768, bias=True)\n",
              "          (dropout): Dropout(p=0.0, inplace=False)\n",
              "        )\n",
              "        (layernorm_before): LayerNorm((768,), eps=1e-12, elementwise_affine=True)\n",
              "        (drop_path): BeitDropPath(p=0.036363635212183)\n",
              "        (layernorm_after): LayerNorm((768,), eps=1e-12, elementwise_affine=True)\n",
              "      )\n",
              "      (5): BeitLayer(\n",
              "        (attention): BeitAttention(\n",
              "          (attention): BeitSdpaSelfAttention(\n",
              "            (query): Linear(in_features=768, out_features=768, bias=True)\n",
              "            (key): Linear(in_features=768, out_features=768, bias=False)\n",
              "            (value): Linear(in_features=768, out_features=768, bias=True)\n",
              "            (dropout): Dropout(p=0.0, inplace=False)\n",
              "            (relative_position_bias): BeitRelativePositionBias()\n",
              "          )\n",
              "          (output): BeitSelfOutput(\n",
              "            (dense): Linear(in_features=768, out_features=768, bias=True)\n",
              "            (dropout): Dropout(p=0.0, inplace=False)\n",
              "          )\n",
              "        )\n",
              "        (intermediate): BeitIntermediate(\n",
              "          (dense): Linear(in_features=768, out_features=3072, bias=True)\n",
              "          (intermediate_act_fn): GELUActivation()\n",
              "        )\n",
              "        (output): BeitOutput(\n",
              "          (dense): Linear(in_features=3072, out_features=768, bias=True)\n",
              "          (dropout): Dropout(p=0.0, inplace=False)\n",
              "        )\n",
              "        (layernorm_before): LayerNorm((768,), eps=1e-12, elementwise_affine=True)\n",
              "        (drop_path): BeitDropPath(p=0.045454543083906174)\n",
              "        (layernorm_after): LayerNorm((768,), eps=1e-12, elementwise_affine=True)\n",
              "      )\n",
              "      (6): BeitLayer(\n",
              "        (attention): BeitAttention(\n",
              "          (attention): BeitSdpaSelfAttention(\n",
              "            (query): Linear(in_features=768, out_features=768, bias=True)\n",
              "            (key): Linear(in_features=768, out_features=768, bias=False)\n",
              "            (value): Linear(in_features=768, out_features=768, bias=True)\n",
              "            (dropout): Dropout(p=0.0, inplace=False)\n",
              "            (relative_position_bias): BeitRelativePositionBias()\n",
              "          )\n",
              "          (output): BeitSelfOutput(\n",
              "            (dense): Linear(in_features=768, out_features=768, bias=True)\n",
              "            (dropout): Dropout(p=0.0, inplace=False)\n",
              "          )\n",
              "        )\n",
              "        (intermediate): BeitIntermediate(\n",
              "          (dense): Linear(in_features=768, out_features=3072, bias=True)\n",
              "          (intermediate_act_fn): GELUActivation()\n",
              "        )\n",
              "        (output): BeitOutput(\n",
              "          (dense): Linear(in_features=3072, out_features=768, bias=True)\n",
              "          (dropout): Dropout(p=0.0, inplace=False)\n",
              "        )\n",
              "        (layernorm_before): LayerNorm((768,), eps=1e-12, elementwise_affine=True)\n",
              "        (drop_path): BeitDropPath(p=0.054545458406209946)\n",
              "        (layernorm_after): LayerNorm((768,), eps=1e-12, elementwise_affine=True)\n",
              "      )\n",
              "      (7): BeitLayer(\n",
              "        (attention): BeitAttention(\n",
              "          (attention): BeitSdpaSelfAttention(\n",
              "            (query): Linear(in_features=768, out_features=768, bias=True)\n",
              "            (key): Linear(in_features=768, out_features=768, bias=False)\n",
              "            (value): Linear(in_features=768, out_features=768, bias=True)\n",
              "            (dropout): Dropout(p=0.0, inplace=False)\n",
              "            (relative_position_bias): BeitRelativePositionBias()\n",
              "          )\n",
              "          (output): BeitSelfOutput(\n",
              "            (dense): Linear(in_features=768, out_features=768, bias=True)\n",
              "            (dropout): Dropout(p=0.0, inplace=False)\n",
              "          )\n",
              "        )\n",
              "        (intermediate): BeitIntermediate(\n",
              "          (dense): Linear(in_features=768, out_features=3072, bias=True)\n",
              "          (intermediate_act_fn): GELUActivation()\n",
              "        )\n",
              "        (output): BeitOutput(\n",
              "          (dense): Linear(in_features=3072, out_features=768, bias=True)\n",
              "          (dropout): Dropout(p=0.0, inplace=False)\n",
              "        )\n",
              "        (layernorm_before): LayerNorm((768,), eps=1e-12, elementwise_affine=True)\n",
              "        (drop_path): BeitDropPath(p=0.06363636255264282)\n",
              "        (layernorm_after): LayerNorm((768,), eps=1e-12, elementwise_affine=True)\n",
              "      )\n",
              "      (8): BeitLayer(\n",
              "        (attention): BeitAttention(\n",
              "          (attention): BeitSdpaSelfAttention(\n",
              "            (query): Linear(in_features=768, out_features=768, bias=True)\n",
              "            (key): Linear(in_features=768, out_features=768, bias=False)\n",
              "            (value): Linear(in_features=768, out_features=768, bias=True)\n",
              "            (dropout): Dropout(p=0.0, inplace=False)\n",
              "            (relative_position_bias): BeitRelativePositionBias()\n",
              "          )\n",
              "          (output): BeitSelfOutput(\n",
              "            (dense): Linear(in_features=768, out_features=768, bias=True)\n",
              "            (dropout): Dropout(p=0.0, inplace=False)\n",
              "          )\n",
              "        )\n",
              "        (intermediate): BeitIntermediate(\n",
              "          (dense): Linear(in_features=768, out_features=3072, bias=True)\n",
              "          (intermediate_act_fn): GELUActivation()\n",
              "        )\n",
              "        (output): BeitOutput(\n",
              "          (dense): Linear(in_features=3072, out_features=768, bias=True)\n",
              "          (dropout): Dropout(p=0.0, inplace=False)\n",
              "        )\n",
              "        (layernorm_before): LayerNorm((768,), eps=1e-12, elementwise_affine=True)\n",
              "        (drop_path): BeitDropPath(p=0.0727272778749466)\n",
              "        (layernorm_after): LayerNorm((768,), eps=1e-12, elementwise_affine=True)\n",
              "      )\n",
              "      (9): BeitLayer(\n",
              "        (attention): BeitAttention(\n",
              "          (attention): BeitSdpaSelfAttention(\n",
              "            (query): Linear(in_features=768, out_features=768, bias=True)\n",
              "            (key): Linear(in_features=768, out_features=768, bias=False)\n",
              "            (value): Linear(in_features=768, out_features=768, bias=True)\n",
              "            (dropout): Dropout(p=0.0, inplace=False)\n",
              "            (relative_position_bias): BeitRelativePositionBias()\n",
              "          )\n",
              "          (output): BeitSelfOutput(\n",
              "            (dense): Linear(in_features=768, out_features=768, bias=True)\n",
              "            (dropout): Dropout(p=0.0, inplace=False)\n",
              "          )\n",
              "        )\n",
              "        (intermediate): BeitIntermediate(\n",
              "          (dense): Linear(in_features=768, out_features=3072, bias=True)\n",
              "          (intermediate_act_fn): GELUActivation()\n",
              "        )\n",
              "        (output): BeitOutput(\n",
              "          (dense): Linear(in_features=3072, out_features=768, bias=True)\n",
              "          (dropout): Dropout(p=0.0, inplace=False)\n",
              "        )\n",
              "        (layernorm_before): LayerNorm((768,), eps=1e-12, elementwise_affine=True)\n",
              "        (drop_path): BeitDropPath(p=0.08181818574666977)\n",
              "        (layernorm_after): LayerNorm((768,), eps=1e-12, elementwise_affine=True)\n",
              "      )\n",
              "      (10): BeitLayer(\n",
              "        (attention): BeitAttention(\n",
              "          (attention): BeitSdpaSelfAttention(\n",
              "            (query): Linear(in_features=768, out_features=768, bias=True)\n",
              "            (key): Linear(in_features=768, out_features=768, bias=False)\n",
              "            (value): Linear(in_features=768, out_features=768, bias=True)\n",
              "            (dropout): Dropout(p=0.0, inplace=False)\n",
              "            (relative_position_bias): BeitRelativePositionBias()\n",
              "          )\n",
              "          (output): BeitSelfOutput(\n",
              "            (dense): Linear(in_features=768, out_features=768, bias=True)\n",
              "            (dropout): Dropout(p=0.0, inplace=False)\n",
              "          )\n",
              "        )\n",
              "        (intermediate): BeitIntermediate(\n",
              "          (dense): Linear(in_features=768, out_features=3072, bias=True)\n",
              "          (intermediate_act_fn): GELUActivation()\n",
              "        )\n",
              "        (output): BeitOutput(\n",
              "          (dense): Linear(in_features=3072, out_features=768, bias=True)\n",
              "          (dropout): Dropout(p=0.0, inplace=False)\n",
              "        )\n",
              "        (layernorm_before): LayerNorm((768,), eps=1e-12, elementwise_affine=True)\n",
              "        (drop_path): BeitDropPath(p=0.09090909361839294)\n",
              "        (layernorm_after): LayerNorm((768,), eps=1e-12, elementwise_affine=True)\n",
              "      )\n",
              "      (11): BeitLayer(\n",
              "        (attention): BeitAttention(\n",
              "          (attention): BeitSdpaSelfAttention(\n",
              "            (query): Linear(in_features=768, out_features=768, bias=True)\n",
              "            (key): Linear(in_features=768, out_features=768, bias=False)\n",
              "            (value): Linear(in_features=768, out_features=768, bias=True)\n",
              "            (dropout): Dropout(p=0.0, inplace=False)\n",
              "            (relative_position_bias): BeitRelativePositionBias()\n",
              "          )\n",
              "          (output): BeitSelfOutput(\n",
              "            (dense): Linear(in_features=768, out_features=768, bias=True)\n",
              "            (dropout): Dropout(p=0.0, inplace=False)\n",
              "          )\n",
              "        )\n",
              "        (intermediate): BeitIntermediate(\n",
              "          (dense): Linear(in_features=768, out_features=3072, bias=True)\n",
              "          (intermediate_act_fn): GELUActivation()\n",
              "        )\n",
              "        (output): BeitOutput(\n",
              "          (dense): Linear(in_features=3072, out_features=768, bias=True)\n",
              "          (dropout): Dropout(p=0.0, inplace=False)\n",
              "        )\n",
              "        (layernorm_before): LayerNorm((768,), eps=1e-12, elementwise_affine=True)\n",
              "        (drop_path): BeitDropPath(p=0.10000000149011612)\n",
              "        (layernorm_after): LayerNorm((768,), eps=1e-12, elementwise_affine=True)\n",
              "      )\n",
              "    )\n",
              "  )\n",
              "  (layernorm): Identity()\n",
              "  (pooler): BeitPooler(\n",
              "    (layernorm): LayerNorm((768,), eps=1e-12, elementwise_affine=True)\n",
              "  )\n",
              ")"
            ]
          },
          "metadata": {},
          "execution_count": 140
        }
      ]
    },
    {
      "cell_type": "code",
      "source": [
        "from transformers import BeitConfig, UperNetConfig, UperNetForSemanticSegmentation\n",
        "\n",
        "beit_backbone = BeitConfig(\n",
        "    output_hidden_states=True,\n",
        "    out_indices=[2, 5, 8, 11]   # can be tweaked\n",
        ")\n",
        "cfg = UperNetConfig(backbone_config=beit_backbone, num_labels=2)\n",
        "model = UperNetForSemanticSegmentation(cfg)\n",
        "# decoder's weights RANDOMLY INITIALIZED"
      ],
      "metadata": {
        "id": "qnH5nhHbvDGG"
      },
      "execution_count": null,
      "outputs": []
    },
    {
      "cell_type": "code",
      "source": [
        "model"
      ],
      "metadata": {
        "colab": {
          "base_uri": "https://localhost:8080/"
        },
        "id": "zTumJpp1wpUE",
        "outputId": "4e343493-fd7d-4d2e-8053-85f1a78893c5"
      },
      "execution_count": null,
      "outputs": [
        {
          "output_type": "execute_result",
          "data": {
            "text/plain": [
              "UperNetForSemanticSegmentation(\n",
              "  (backbone): BeitBackbone(\n",
              "    (embeddings): BeitEmbeddings(\n",
              "      (patch_embeddings): BeitPatchEmbeddings(\n",
              "        (projection): Conv2d(3, 768, kernel_size=(16, 16), stride=(16, 16))\n",
              "      )\n",
              "      (dropout): Dropout(p=0.0, inplace=False)\n",
              "    )\n",
              "    (encoder): BeitEncoder(\n",
              "      (layer): ModuleList(\n",
              "        (0): BeitLayer(\n",
              "          (attention): BeitAttention(\n",
              "            (attention): BeitSdpaSelfAttention(\n",
              "              (query): Linear(in_features=768, out_features=768, bias=True)\n",
              "              (key): Linear(in_features=768, out_features=768, bias=False)\n",
              "              (value): Linear(in_features=768, out_features=768, bias=True)\n",
              "              (dropout): Dropout(p=0.0, inplace=False)\n",
              "            )\n",
              "            (output): BeitSelfOutput(\n",
              "              (dense): Linear(in_features=768, out_features=768, bias=True)\n",
              "              (dropout): Dropout(p=0.0, inplace=False)\n",
              "            )\n",
              "          )\n",
              "          (intermediate): BeitIntermediate(\n",
              "            (dense): Linear(in_features=768, out_features=3072, bias=True)\n",
              "            (intermediate_act_fn): GELUActivation()\n",
              "          )\n",
              "          (output): BeitOutput(\n",
              "            (dense): Linear(in_features=3072, out_features=768, bias=True)\n",
              "            (dropout): Dropout(p=0.0, inplace=False)\n",
              "          )\n",
              "          (layernorm_before): LayerNorm((768,), eps=1e-12, elementwise_affine=True)\n",
              "          (drop_path): Identity()\n",
              "          (layernorm_after): LayerNorm((768,), eps=1e-12, elementwise_affine=True)\n",
              "        )\n",
              "        (1): BeitLayer(\n",
              "          (attention): BeitAttention(\n",
              "            (attention): BeitSdpaSelfAttention(\n",
              "              (query): Linear(in_features=768, out_features=768, bias=True)\n",
              "              (key): Linear(in_features=768, out_features=768, bias=False)\n",
              "              (value): Linear(in_features=768, out_features=768, bias=True)\n",
              "              (dropout): Dropout(p=0.0, inplace=False)\n",
              "            )\n",
              "            (output): BeitSelfOutput(\n",
              "              (dense): Linear(in_features=768, out_features=768, bias=True)\n",
              "              (dropout): Dropout(p=0.0, inplace=False)\n",
              "            )\n",
              "          )\n",
              "          (intermediate): BeitIntermediate(\n",
              "            (dense): Linear(in_features=768, out_features=3072, bias=True)\n",
              "            (intermediate_act_fn): GELUActivation()\n",
              "          )\n",
              "          (output): BeitOutput(\n",
              "            (dense): Linear(in_features=3072, out_features=768, bias=True)\n",
              "            (dropout): Dropout(p=0.0, inplace=False)\n",
              "          )\n",
              "          (layernorm_before): LayerNorm((768,), eps=1e-12, elementwise_affine=True)\n",
              "          (drop_path): BeitDropPath(p=0.00909090880304575)\n",
              "          (layernorm_after): LayerNorm((768,), eps=1e-12, elementwise_affine=True)\n",
              "        )\n",
              "        (2): BeitLayer(\n",
              "          (attention): BeitAttention(\n",
              "            (attention): BeitSdpaSelfAttention(\n",
              "              (query): Linear(in_features=768, out_features=768, bias=True)\n",
              "              (key): Linear(in_features=768, out_features=768, bias=False)\n",
              "              (value): Linear(in_features=768, out_features=768, bias=True)\n",
              "              (dropout): Dropout(p=0.0, inplace=False)\n",
              "            )\n",
              "            (output): BeitSelfOutput(\n",
              "              (dense): Linear(in_features=768, out_features=768, bias=True)\n",
              "              (dropout): Dropout(p=0.0, inplace=False)\n",
              "            )\n",
              "          )\n",
              "          (intermediate): BeitIntermediate(\n",
              "            (dense): Linear(in_features=768, out_features=3072, bias=True)\n",
              "            (intermediate_act_fn): GELUActivation()\n",
              "          )\n",
              "          (output): BeitOutput(\n",
              "            (dense): Linear(in_features=3072, out_features=768, bias=True)\n",
              "            (dropout): Dropout(p=0.0, inplace=False)\n",
              "          )\n",
              "          (layernorm_before): LayerNorm((768,), eps=1e-12, elementwise_affine=True)\n",
              "          (drop_path): BeitDropPath(p=0.0181818176060915)\n",
              "          (layernorm_after): LayerNorm((768,), eps=1e-12, elementwise_affine=True)\n",
              "        )\n",
              "        (3): BeitLayer(\n",
              "          (attention): BeitAttention(\n",
              "            (attention): BeitSdpaSelfAttention(\n",
              "              (query): Linear(in_features=768, out_features=768, bias=True)\n",
              "              (key): Linear(in_features=768, out_features=768, bias=False)\n",
              "              (value): Linear(in_features=768, out_features=768, bias=True)\n",
              "              (dropout): Dropout(p=0.0, inplace=False)\n",
              "            )\n",
              "            (output): BeitSelfOutput(\n",
              "              (dense): Linear(in_features=768, out_features=768, bias=True)\n",
              "              (dropout): Dropout(p=0.0, inplace=False)\n",
              "            )\n",
              "          )\n",
              "          (intermediate): BeitIntermediate(\n",
              "            (dense): Linear(in_features=768, out_features=3072, bias=True)\n",
              "            (intermediate_act_fn): GELUActivation()\n",
              "          )\n",
              "          (output): BeitOutput(\n",
              "            (dense): Linear(in_features=3072, out_features=768, bias=True)\n",
              "            (dropout): Dropout(p=0.0, inplace=False)\n",
              "          )\n",
              "          (layernorm_before): LayerNorm((768,), eps=1e-12, elementwise_affine=True)\n",
              "          (drop_path): BeitDropPath(p=0.027272727340459824)\n",
              "          (layernorm_after): LayerNorm((768,), eps=1e-12, elementwise_affine=True)\n",
              "        )\n",
              "        (4): BeitLayer(\n",
              "          (attention): BeitAttention(\n",
              "            (attention): BeitSdpaSelfAttention(\n",
              "              (query): Linear(in_features=768, out_features=768, bias=True)\n",
              "              (key): Linear(in_features=768, out_features=768, bias=False)\n",
              "              (value): Linear(in_features=768, out_features=768, bias=True)\n",
              "              (dropout): Dropout(p=0.0, inplace=False)\n",
              "            )\n",
              "            (output): BeitSelfOutput(\n",
              "              (dense): Linear(in_features=768, out_features=768, bias=True)\n",
              "              (dropout): Dropout(p=0.0, inplace=False)\n",
              "            )\n",
              "          )\n",
              "          (intermediate): BeitIntermediate(\n",
              "            (dense): Linear(in_features=768, out_features=3072, bias=True)\n",
              "            (intermediate_act_fn): GELUActivation()\n",
              "          )\n",
              "          (output): BeitOutput(\n",
              "            (dense): Linear(in_features=3072, out_features=768, bias=True)\n",
              "            (dropout): Dropout(p=0.0, inplace=False)\n",
              "          )\n",
              "          (layernorm_before): LayerNorm((768,), eps=1e-12, elementwise_affine=True)\n",
              "          (drop_path): BeitDropPath(p=0.036363635212183)\n",
              "          (layernorm_after): LayerNorm((768,), eps=1e-12, elementwise_affine=True)\n",
              "        )\n",
              "        (5): BeitLayer(\n",
              "          (attention): BeitAttention(\n",
              "            (attention): BeitSdpaSelfAttention(\n",
              "              (query): Linear(in_features=768, out_features=768, bias=True)\n",
              "              (key): Linear(in_features=768, out_features=768, bias=False)\n",
              "              (value): Linear(in_features=768, out_features=768, bias=True)\n",
              "              (dropout): Dropout(p=0.0, inplace=False)\n",
              "            )\n",
              "            (output): BeitSelfOutput(\n",
              "              (dense): Linear(in_features=768, out_features=768, bias=True)\n",
              "              (dropout): Dropout(p=0.0, inplace=False)\n",
              "            )\n",
              "          )\n",
              "          (intermediate): BeitIntermediate(\n",
              "            (dense): Linear(in_features=768, out_features=3072, bias=True)\n",
              "            (intermediate_act_fn): GELUActivation()\n",
              "          )\n",
              "          (output): BeitOutput(\n",
              "            (dense): Linear(in_features=3072, out_features=768, bias=True)\n",
              "            (dropout): Dropout(p=0.0, inplace=False)\n",
              "          )\n",
              "          (layernorm_before): LayerNorm((768,), eps=1e-12, elementwise_affine=True)\n",
              "          (drop_path): BeitDropPath(p=0.045454543083906174)\n",
              "          (layernorm_after): LayerNorm((768,), eps=1e-12, elementwise_affine=True)\n",
              "        )\n",
              "        (6): BeitLayer(\n",
              "          (attention): BeitAttention(\n",
              "            (attention): BeitSdpaSelfAttention(\n",
              "              (query): Linear(in_features=768, out_features=768, bias=True)\n",
              "              (key): Linear(in_features=768, out_features=768, bias=False)\n",
              "              (value): Linear(in_features=768, out_features=768, bias=True)\n",
              "              (dropout): Dropout(p=0.0, inplace=False)\n",
              "            )\n",
              "            (output): BeitSelfOutput(\n",
              "              (dense): Linear(in_features=768, out_features=768, bias=True)\n",
              "              (dropout): Dropout(p=0.0, inplace=False)\n",
              "            )\n",
              "          )\n",
              "          (intermediate): BeitIntermediate(\n",
              "            (dense): Linear(in_features=768, out_features=3072, bias=True)\n",
              "            (intermediate_act_fn): GELUActivation()\n",
              "          )\n",
              "          (output): BeitOutput(\n",
              "            (dense): Linear(in_features=3072, out_features=768, bias=True)\n",
              "            (dropout): Dropout(p=0.0, inplace=False)\n",
              "          )\n",
              "          (layernorm_before): LayerNorm((768,), eps=1e-12, elementwise_affine=True)\n",
              "          (drop_path): BeitDropPath(p=0.054545458406209946)\n",
              "          (layernorm_after): LayerNorm((768,), eps=1e-12, elementwise_affine=True)\n",
              "        )\n",
              "        (7): BeitLayer(\n",
              "          (attention): BeitAttention(\n",
              "            (attention): BeitSdpaSelfAttention(\n",
              "              (query): Linear(in_features=768, out_features=768, bias=True)\n",
              "              (key): Linear(in_features=768, out_features=768, bias=False)\n",
              "              (value): Linear(in_features=768, out_features=768, bias=True)\n",
              "              (dropout): Dropout(p=0.0, inplace=False)\n",
              "            )\n",
              "            (output): BeitSelfOutput(\n",
              "              (dense): Linear(in_features=768, out_features=768, bias=True)\n",
              "              (dropout): Dropout(p=0.0, inplace=False)\n",
              "            )\n",
              "          )\n",
              "          (intermediate): BeitIntermediate(\n",
              "            (dense): Linear(in_features=768, out_features=3072, bias=True)\n",
              "            (intermediate_act_fn): GELUActivation()\n",
              "          )\n",
              "          (output): BeitOutput(\n",
              "            (dense): Linear(in_features=3072, out_features=768, bias=True)\n",
              "            (dropout): Dropout(p=0.0, inplace=False)\n",
              "          )\n",
              "          (layernorm_before): LayerNorm((768,), eps=1e-12, elementwise_affine=True)\n",
              "          (drop_path): BeitDropPath(p=0.06363636255264282)\n",
              "          (layernorm_after): LayerNorm((768,), eps=1e-12, elementwise_affine=True)\n",
              "        )\n",
              "        (8): BeitLayer(\n",
              "          (attention): BeitAttention(\n",
              "            (attention): BeitSdpaSelfAttention(\n",
              "              (query): Linear(in_features=768, out_features=768, bias=True)\n",
              "              (key): Linear(in_features=768, out_features=768, bias=False)\n",
              "              (value): Linear(in_features=768, out_features=768, bias=True)\n",
              "              (dropout): Dropout(p=0.0, inplace=False)\n",
              "            )\n",
              "            (output): BeitSelfOutput(\n",
              "              (dense): Linear(in_features=768, out_features=768, bias=True)\n",
              "              (dropout): Dropout(p=0.0, inplace=False)\n",
              "            )\n",
              "          )\n",
              "          (intermediate): BeitIntermediate(\n",
              "            (dense): Linear(in_features=768, out_features=3072, bias=True)\n",
              "            (intermediate_act_fn): GELUActivation()\n",
              "          )\n",
              "          (output): BeitOutput(\n",
              "            (dense): Linear(in_features=3072, out_features=768, bias=True)\n",
              "            (dropout): Dropout(p=0.0, inplace=False)\n",
              "          )\n",
              "          (layernorm_before): LayerNorm((768,), eps=1e-12, elementwise_affine=True)\n",
              "          (drop_path): BeitDropPath(p=0.0727272778749466)\n",
              "          (layernorm_after): LayerNorm((768,), eps=1e-12, elementwise_affine=True)\n",
              "        )\n",
              "        (9): BeitLayer(\n",
              "          (attention): BeitAttention(\n",
              "            (attention): BeitSdpaSelfAttention(\n",
              "              (query): Linear(in_features=768, out_features=768, bias=True)\n",
              "              (key): Linear(in_features=768, out_features=768, bias=False)\n",
              "              (value): Linear(in_features=768, out_features=768, bias=True)\n",
              "              (dropout): Dropout(p=0.0, inplace=False)\n",
              "            )\n",
              "            (output): BeitSelfOutput(\n",
              "              (dense): Linear(in_features=768, out_features=768, bias=True)\n",
              "              (dropout): Dropout(p=0.0, inplace=False)\n",
              "            )\n",
              "          )\n",
              "          (intermediate): BeitIntermediate(\n",
              "            (dense): Linear(in_features=768, out_features=3072, bias=True)\n",
              "            (intermediate_act_fn): GELUActivation()\n",
              "          )\n",
              "          (output): BeitOutput(\n",
              "            (dense): Linear(in_features=3072, out_features=768, bias=True)\n",
              "            (dropout): Dropout(p=0.0, inplace=False)\n",
              "          )\n",
              "          (layernorm_before): LayerNorm((768,), eps=1e-12, elementwise_affine=True)\n",
              "          (drop_path): BeitDropPath(p=0.08181818574666977)\n",
              "          (layernorm_after): LayerNorm((768,), eps=1e-12, elementwise_affine=True)\n",
              "        )\n",
              "        (10): BeitLayer(\n",
              "          (attention): BeitAttention(\n",
              "            (attention): BeitSdpaSelfAttention(\n",
              "              (query): Linear(in_features=768, out_features=768, bias=True)\n",
              "              (key): Linear(in_features=768, out_features=768, bias=False)\n",
              "              (value): Linear(in_features=768, out_features=768, bias=True)\n",
              "              (dropout): Dropout(p=0.0, inplace=False)\n",
              "            )\n",
              "            (output): BeitSelfOutput(\n",
              "              (dense): Linear(in_features=768, out_features=768, bias=True)\n",
              "              (dropout): Dropout(p=0.0, inplace=False)\n",
              "            )\n",
              "          )\n",
              "          (intermediate): BeitIntermediate(\n",
              "            (dense): Linear(in_features=768, out_features=3072, bias=True)\n",
              "            (intermediate_act_fn): GELUActivation()\n",
              "          )\n",
              "          (output): BeitOutput(\n",
              "            (dense): Linear(in_features=3072, out_features=768, bias=True)\n",
              "            (dropout): Dropout(p=0.0, inplace=False)\n",
              "          )\n",
              "          (layernorm_before): LayerNorm((768,), eps=1e-12, elementwise_affine=True)\n",
              "          (drop_path): BeitDropPath(p=0.09090909361839294)\n",
              "          (layernorm_after): LayerNorm((768,), eps=1e-12, elementwise_affine=True)\n",
              "        )\n",
              "        (11): BeitLayer(\n",
              "          (attention): BeitAttention(\n",
              "            (attention): BeitSdpaSelfAttention(\n",
              "              (query): Linear(in_features=768, out_features=768, bias=True)\n",
              "              (key): Linear(in_features=768, out_features=768, bias=False)\n",
              "              (value): Linear(in_features=768, out_features=768, bias=True)\n",
              "              (dropout): Dropout(p=0.0, inplace=False)\n",
              "            )\n",
              "            (output): BeitSelfOutput(\n",
              "              (dense): Linear(in_features=768, out_features=768, bias=True)\n",
              "              (dropout): Dropout(p=0.0, inplace=False)\n",
              "            )\n",
              "          )\n",
              "          (intermediate): BeitIntermediate(\n",
              "            (dense): Linear(in_features=768, out_features=3072, bias=True)\n",
              "            (intermediate_act_fn): GELUActivation()\n",
              "          )\n",
              "          (output): BeitOutput(\n",
              "            (dense): Linear(in_features=3072, out_features=768, bias=True)\n",
              "            (dropout): Dropout(p=0.0, inplace=False)\n",
              "          )\n",
              "          (layernorm_before): LayerNorm((768,), eps=1e-12, elementwise_affine=True)\n",
              "          (drop_path): BeitDropPath(p=0.10000000149011612)\n",
              "          (layernorm_after): LayerNorm((768,), eps=1e-12, elementwise_affine=True)\n",
              "        )\n",
              "      )\n",
              "    )\n",
              "  )\n",
              "  (decode_head): UperNetHead(\n",
              "    (classifier): Conv2d(512, 2, kernel_size=(1, 1), stride=(1, 1))\n",
              "    (psp_modules): UperNetPyramidPoolingModule(\n",
              "      (0): UperNetPyramidPoolingBlock(\n",
              "        (0): AdaptiveAvgPool2d(output_size=1)\n",
              "        (1): UperNetConvModule(\n",
              "          (conv): Conv2d(768, 512, kernel_size=(1, 1), stride=(1, 1), bias=False)\n",
              "          (batch_norm): BatchNorm2d(512, eps=1e-05, momentum=0.1, affine=True, track_running_stats=True)\n",
              "          (activation): ReLU()\n",
              "        )\n",
              "      )\n",
              "      (1): UperNetPyramidPoolingBlock(\n",
              "        (0): AdaptiveAvgPool2d(output_size=2)\n",
              "        (1): UperNetConvModule(\n",
              "          (conv): Conv2d(768, 512, kernel_size=(1, 1), stride=(1, 1), bias=False)\n",
              "          (batch_norm): BatchNorm2d(512, eps=1e-05, momentum=0.1, affine=True, track_running_stats=True)\n",
              "          (activation): ReLU()\n",
              "        )\n",
              "      )\n",
              "      (2): UperNetPyramidPoolingBlock(\n",
              "        (0): AdaptiveAvgPool2d(output_size=3)\n",
              "        (1): UperNetConvModule(\n",
              "          (conv): Conv2d(768, 512, kernel_size=(1, 1), stride=(1, 1), bias=False)\n",
              "          (batch_norm): BatchNorm2d(512, eps=1e-05, momentum=0.1, affine=True, track_running_stats=True)\n",
              "          (activation): ReLU()\n",
              "        )\n",
              "      )\n",
              "      (3): UperNetPyramidPoolingBlock(\n",
              "        (0): AdaptiveAvgPool2d(output_size=6)\n",
              "        (1): UperNetConvModule(\n",
              "          (conv): Conv2d(768, 512, kernel_size=(1, 1), stride=(1, 1), bias=False)\n",
              "          (batch_norm): BatchNorm2d(512, eps=1e-05, momentum=0.1, affine=True, track_running_stats=True)\n",
              "          (activation): ReLU()\n",
              "        )\n",
              "      )\n",
              "    )\n",
              "    (bottleneck): UperNetConvModule(\n",
              "      (conv): Conv2d(2816, 512, kernel_size=(3, 3), stride=(1, 1), padding=(1, 1), bias=False)\n",
              "      (batch_norm): BatchNorm2d(512, eps=1e-05, momentum=0.1, affine=True, track_running_stats=True)\n",
              "      (activation): ReLU()\n",
              "    )\n",
              "    (lateral_convs): ModuleList(\n",
              "      (0-2): 3 x UperNetConvModule(\n",
              "        (conv): Conv2d(768, 512, kernel_size=(1, 1), stride=(1, 1), bias=False)\n",
              "        (batch_norm): BatchNorm2d(512, eps=1e-05, momentum=0.1, affine=True, track_running_stats=True)\n",
              "        (activation): ReLU()\n",
              "      )\n",
              "    )\n",
              "    (fpn_convs): ModuleList(\n",
              "      (0-2): 3 x UperNetConvModule(\n",
              "        (conv): Conv2d(512, 512, kernel_size=(3, 3), stride=(1, 1), padding=(1, 1), bias=False)\n",
              "        (batch_norm): BatchNorm2d(512, eps=1e-05, momentum=0.1, affine=True, track_running_stats=True)\n",
              "        (activation): ReLU()\n",
              "      )\n",
              "    )\n",
              "    (fpn_bottleneck): UperNetConvModule(\n",
              "      (conv): Conv2d(2048, 512, kernel_size=(3, 3), stride=(1, 1), padding=(1, 1), bias=False)\n",
              "      (batch_norm): BatchNorm2d(512, eps=1e-05, momentum=0.1, affine=True, track_running_stats=True)\n",
              "      (activation): ReLU()\n",
              "    )\n",
              "  )\n",
              "  (auxiliary_head): UperNetFCNHead(\n",
              "    (convs): Sequential(\n",
              "      (0): UperNetConvModule(\n",
              "        (conv): Conv2d(768, 256, kernel_size=(3, 3), stride=(1, 1), padding=(1, 1), bias=False)\n",
              "        (batch_norm): BatchNorm2d(256, eps=1e-05, momentum=0.1, affine=True, track_running_stats=True)\n",
              "        (activation): ReLU()\n",
              "      )\n",
              "    )\n",
              "    (classifier): Conv2d(256, 2, kernel_size=(1, 1), stride=(1, 1))\n",
              "  )\n",
              ")"
            ]
          },
          "metadata": {},
          "execution_count": 142
        }
      ]
    },
    {
      "cell_type": "code",
      "source": [
        "conv2d = model.backbone.embeddings.patch_embeddings.projection\n",
        "W2d = conv2d.weight.data\n",
        "b2d = conv2d.bias.data"
      ],
      "metadata": {
        "id": "986xw9nSwp0c"
      },
      "execution_count": null,
      "outputs": []
    },
    {
      "cell_type": "code",
      "source": [],
      "metadata": {
        "id": "-udQpqHwx4Mf"
      },
      "execution_count": null,
      "outputs": []
    }
  ]
}